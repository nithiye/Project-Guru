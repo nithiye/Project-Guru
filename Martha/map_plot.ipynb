{
 "cells": [
  {
   "cell_type": "code",
   "execution_count": 42,
   "metadata": {},
   "outputs": [],
   "source": [
    "# Import dependencies\n",
    "import pandas as pd\n",
    "import plotly.express as px\n",
    "import plotly.graph_objects as go\n",
    "import numpy as np"
   ]
  },
  {
   "cell_type": "code",
   "execution_count": 18,
   "metadata": {},
   "outputs": [],
   "source": [
    "# Read file with plotting information\n",
    "plot_data_csv = \"../Output/top20_ctrys.csv\"\n",
    "\n",
    "# Read data into Pandas data frames\n",
    "plot_data_df = pd.read_csv(plot_data_csv)"
   ]
  },
  {
   "cell_type": "code",
   "execution_count": 46,
   "metadata": {},
   "outputs": [
    {
     "data": {
      "text/html": [
       "<div>\n",
       "<style scoped>\n",
       "    .dataframe tbody tr th:only-of-type {\n",
       "        vertical-align: middle;\n",
       "    }\n",
       "\n",
       "    .dataframe tbody tr th {\n",
       "        vertical-align: top;\n",
       "    }\n",
       "\n",
       "    .dataframe thead th {\n",
       "        text-align: right;\n",
       "    }\n",
       "</style>\n",
       "<table border=\"1\" class=\"dataframe\">\n",
       "  <thead>\n",
       "    <tr style=\"text-align: right;\">\n",
       "      <th></th>\n",
       "      <th>Origin</th>\n",
       "      <th>DRegion</th>\n",
       "      <th>Destination</th>\n",
       "      <th>Tot Immigrants</th>\n",
       "      <th>plot_tot</th>\n",
       "    </tr>\n",
       "  </thead>\n",
       "  <tbody>\n",
       "    <tr>\n",
       "      <th>45</th>\n",
       "      <td>Mexico</td>\n",
       "      <td>NORTHERN AMERICA</td>\n",
       "      <td>United States of America</td>\n",
       "      <td>47738668</td>\n",
       "      <td>25.508655</td>\n",
       "    </tr>\n",
       "    <tr>\n",
       "      <th>46</th>\n",
       "      <td>Mexico</td>\n",
       "      <td>NORTHERN AMERICA</td>\n",
       "      <td>Canada</td>\n",
       "      <td>289855</td>\n",
       "      <td>18.144972</td>\n",
       "    </tr>\n",
       "    <tr>\n",
       "      <th>47</th>\n",
       "      <td>Mexico</td>\n",
       "      <td>EUROPE</td>\n",
       "      <td>Spain</td>\n",
       "      <td>178299</td>\n",
       "      <td>17.443939</td>\n",
       "    </tr>\n",
       "    <tr>\n",
       "      <th>48</th>\n",
       "      <td>Mexico</td>\n",
       "      <td>LA AND CARIBBEAN</td>\n",
       "      <td>Guatemala</td>\n",
       "      <td>64200</td>\n",
       "      <td>15.970286</td>\n",
       "    </tr>\n",
       "    <tr>\n",
       "      <th>49</th>\n",
       "      <td>Mexico</td>\n",
       "      <td>EUROPE</td>\n",
       "      <td>Germany</td>\n",
       "      <td>59245</td>\n",
       "      <td>15.854406</td>\n",
       "    </tr>\n",
       "  </tbody>\n",
       "</table>\n",
       "</div>"
      ],
      "text/plain": [
       "    Origin           DRegion               Destination  Tot Immigrants  \\\n",
       "45  Mexico  NORTHERN AMERICA  United States of America        47738668   \n",
       "46  Mexico  NORTHERN AMERICA                    Canada          289855   \n",
       "47  Mexico            EUROPE                     Spain          178299   \n",
       "48  Mexico  LA AND CARIBBEAN                 Guatemala           64200   \n",
       "49  Mexico            EUROPE                   Germany           59245   \n",
       "\n",
       "     plot_tot  \n",
       "45  25.508655  \n",
       "46  18.144972  \n",
       "47  17.443939  \n",
       "48  15.970286  \n",
       "49  15.854406  "
      ]
     },
     "execution_count": 46,
     "metadata": {},
     "output_type": "execute_result"
    }
   ],
   "source": [
    "\n",
    "plot_data_df[\"plot_tot\"] = np.log2(plot_data_df[\"Tot Immigrants\"])\n",
    "plot_data_df.loc[plot_data_df[\"Origin\"] == \"Mexico\"]"
   ]
  },
  {
   "cell_type": "code",
   "execution_count": 17,
   "metadata": {},
   "outputs": [
    {
     "data": {
      "text/html": [
       "<div>\n",
       "<style scoped>\n",
       "    .dataframe tbody tr th:only-of-type {\n",
       "        vertical-align: middle;\n",
       "    }\n",
       "\n",
       "    .dataframe tbody tr th {\n",
       "        vertical-align: top;\n",
       "    }\n",
       "\n",
       "    .dataframe thead th {\n",
       "        text-align: right;\n",
       "    }\n",
       "</style>\n",
       "<table border=\"1\" class=\"dataframe\">\n",
       "  <thead>\n",
       "    <tr style=\"text-align: right;\">\n",
       "      <th></th>\n",
       "      <th>country</th>\n",
       "      <th>continent</th>\n",
       "      <th>year</th>\n",
       "      <th>lifeExp</th>\n",
       "      <th>pop</th>\n",
       "      <th>gdpPercap</th>\n",
       "      <th>iso_alpha</th>\n",
       "      <th>iso_num</th>\n",
       "    </tr>\n",
       "  </thead>\n",
       "  <tbody>\n",
       "    <tr>\n",
       "      <th>0</th>\n",
       "      <td>Afghanistan</td>\n",
       "      <td>Asia</td>\n",
       "      <td>1952</td>\n",
       "      <td>28.801</td>\n",
       "      <td>8425333</td>\n",
       "      <td>779.445314</td>\n",
       "      <td>AFG</td>\n",
       "      <td>4</td>\n",
       "    </tr>\n",
       "    <tr>\n",
       "      <th>1</th>\n",
       "      <td>Afghanistan</td>\n",
       "      <td>Asia</td>\n",
       "      <td>1957</td>\n",
       "      <td>30.332</td>\n",
       "      <td>9240934</td>\n",
       "      <td>820.853030</td>\n",
       "      <td>AFG</td>\n",
       "      <td>4</td>\n",
       "    </tr>\n",
       "    <tr>\n",
       "      <th>2</th>\n",
       "      <td>Afghanistan</td>\n",
       "      <td>Asia</td>\n",
       "      <td>1962</td>\n",
       "      <td>31.997</td>\n",
       "      <td>10267083</td>\n",
       "      <td>853.100710</td>\n",
       "      <td>AFG</td>\n",
       "      <td>4</td>\n",
       "    </tr>\n",
       "    <tr>\n",
       "      <th>3</th>\n",
       "      <td>Afghanistan</td>\n",
       "      <td>Asia</td>\n",
       "      <td>1967</td>\n",
       "      <td>34.020</td>\n",
       "      <td>11537966</td>\n",
       "      <td>836.197138</td>\n",
       "      <td>AFG</td>\n",
       "      <td>4</td>\n",
       "    </tr>\n",
       "    <tr>\n",
       "      <th>4</th>\n",
       "      <td>Afghanistan</td>\n",
       "      <td>Asia</td>\n",
       "      <td>1972</td>\n",
       "      <td>36.088</td>\n",
       "      <td>13079460</td>\n",
       "      <td>739.981106</td>\n",
       "      <td>AFG</td>\n",
       "      <td>4</td>\n",
       "    </tr>\n",
       "  </tbody>\n",
       "</table>\n",
       "</div>"
      ],
      "text/plain": [
       "       country continent  year  lifeExp       pop   gdpPercap iso_alpha  \\\n",
       "0  Afghanistan      Asia  1952   28.801   8425333  779.445314       AFG   \n",
       "1  Afghanistan      Asia  1957   30.332   9240934  820.853030       AFG   \n",
       "2  Afghanistan      Asia  1962   31.997  10267083  853.100710       AFG   \n",
       "3  Afghanistan      Asia  1967   34.020  11537966  836.197138       AFG   \n",
       "4  Afghanistan      Asia  1972   36.088  13079460  739.981106       AFG   \n",
       "\n",
       "   iso_num  \n",
       "0        4  \n",
       "1        4  \n",
       "2        4  \n",
       "3        4  \n",
       "4        4  "
      ]
     },
     "execution_count": 17,
     "metadata": {},
     "output_type": "execute_result"
    }
   ],
   "source": [
    "# Map\n",
    "gapminder = px.data.gapminder()\n",
    "gapminder.head()"
   ]
  },
  {
   "cell_type": "code",
   "execution_count": 50,
   "metadata": {},
   "outputs": [
    {
     "data": {
      "application/vnd.plotly.v1+json": {
       "config": {
        "plotlyServerURL": "https://plot.ly"
       },
       "data": [
        {
         "customdata": [
          [
           "Iran (Islamic Republic of)",
           9216348
          ],
          [
           "Pakistan",
           6136811
          ],
          [
           "Saudi Arabia",
           1317707
          ],
          [
           "Germany",
           340400
          ],
          [
           "United States of America",
           254773
          ]
         ],
         "geo": "geo",
         "hoverlabel": {
          "namelength": 0
         },
         "hovertemplate": "<b>%{hovertext}</b><br><br>Origin=Afghanistan<br>plot_tot=%{marker.size}<br>Destination=%{location}<br>Tot Immigrants=%{customdata[1]}",
         "hovertext": [
          "Iran (Islamic Republic of)",
          "Pakistan",
          "Saudi Arabia",
          "Germany",
          "United States of America"
         ],
         "legendgroup": "Origin=Afghanistan",
         "locationmode": "country names",
         "locations": [
          "Iran (Islamic Republic of)",
          "Pakistan",
          "Saudi Arabia",
          "Germany",
          "United States of America"
         ],
         "marker": {
          "color": "#636efa",
          "size": [
           23.13576376184176,
           22.549057721715762,
           20.329598183494493,
           18.37687151146069,
           17.95885286808254
          ],
          "sizemode": "area",
          "sizeref": 0.06377163744311538
         },
         "name": "Origin=Afghanistan",
         "showlegend": true,
         "text": [
          "Iran (Islamic Republic of)",
          "Pakistan",
          "Saudi Arabia",
          "Germany",
          "United States of America"
         ],
         "type": "scattergeo"
        },
        {
         "customdata": [
          [
           "India",
           13183446
          ],
          [
           "Saudi Arabia",
           3611933
          ],
          [
           "United Arab Emirates",
           3377469
          ],
          [
           "Malaysia",
           1249163
          ],
          [
           "Kuwait",
           1164539
          ]
         ],
         "geo": "geo",
         "hoverlabel": {
          "namelength": 0
         },
         "hovertemplate": "<b>%{hovertext}</b><br><br>Origin=Bangladesh<br>plot_tot=%{marker.size}<br>Destination=%{location}<br>Tot Immigrants=%{customdata[1]}",
         "hovertext": [
          "India",
          "Saudi Arabia",
          "United Arab Emirates",
          "Malaysia",
          "Kuwait"
         ],
         "legendgroup": "Origin=Bangladesh",
         "locationmode": "country names",
         "locations": [
          "India",
          "Saudi Arabia",
          "United Arab Emirates",
          "Malaysia",
          "Kuwait"
         ],
         "marker": {
          "color": "#EF553B",
          "size": [
           23.652224187615506,
           21.78433970094022,
           21.687511097201853,
           20.252530312041333,
           20.151327525029618
          ],
          "sizemode": "area",
          "sizeref": 0.06377163744311538
         },
         "name": "Origin=Bangladesh",
         "showlegend": true,
         "text": [
          "India",
          "Saudi Arabia",
          "United Arab Emirates",
          "Malaysia",
          "Kuwait"
         ],
         "type": "scattergeo"
        },
        {
         "customdata": [
          [
           "China, Hong Kong SAR",
           8982233
          ],
          [
           "United States of America",
           8298810
          ],
          [
           "Japan",
           2788820
          ],
          [
           "Canada",
           2516940
          ],
          [
           "Republic of Korea",
           1956331
          ]
         ],
         "geo": "geo",
         "hoverlabel": {
          "namelength": 0
         },
         "hovertemplate": "<b>%{hovertext}</b><br><br>Origin=China<br>plot_tot=%{marker.size}<br>Destination=%{location}<br>Tot Immigrants=%{customdata[1]}",
         "hovertext": [
          "China, Hong Kong SAR",
          "United States of America",
          "Japan",
          "Canada",
          "Republic of Korea"
         ],
         "legendgroup": "Origin=China",
         "locationmode": "country names",
         "locations": [
          "China, Hong Kong SAR",
          "United States of America",
          "Japan",
          "Canada",
          "Republic of Korea"
         ],
         "marker": {
          "color": "#00cc96",
          "size": [
           23.098642715577114,
           22.984473046725576,
           21.411223390213287,
           21.263239394589775,
           20.899719056004102
          ],
          "sizemode": "area",
          "sizeref": 0.06377163744311538
         },
         "name": "Origin=China",
         "showlegend": true,
         "text": [
          "China, Hong Kong SAR",
          "United States of America",
          "Japan",
          "Canada",
          "Republic of Korea"
         ],
         "type": "scattergeo"
        },
        {
         "customdata": [
          [
           "United Arab Emirates",
           2780063
          ],
          [
           "Saudi Arabia",
           2710183
          ],
          [
           "Kuwait",
           1107108
          ],
          [
           "United States of America",
           626221
          ],
          [
           "Jordan",
           584967
          ]
         ],
         "geo": "geo",
         "hoverlabel": {
          "namelength": 0
         },
         "hovertemplate": "<b>%{hovertext}</b><br><br>Origin=Egypt<br>plot_tot=%{marker.size}<br>Destination=%{location}<br>Tot Immigrants=%{customdata[1]}",
         "hovertext": [
          "United Arab Emirates",
          "Saudi Arabia",
          "Kuwait",
          "United States of America",
          "Jordan"
         ],
         "legendgroup": "Origin=Egypt",
         "locationmode": "country names",
         "locations": [
          "United Arab Emirates",
          "Saudi Arabia",
          "Kuwait",
          "United States of America",
          "Jordan"
         ],
         "marker": {
          "color": "#ab63fa",
          "size": [
           21.4066861460707,
           21.369958839456377,
           20.07836453531389,
           19.256312363762746,
           19.157995714040176
          ],
          "sizemode": "area",
          "sizeref": 0.06377163744311538
         },
         "name": "Origin=Egypt",
         "showlegend": true,
         "text": [
          "United Arab Emirates",
          "Saudi Arabia",
          "Kuwait",
          "United States of America",
          "Jordan"
         ],
         "type": "scattergeo"
        },
        {
         "customdata": [
          [
           "United States of America",
           2612623
          ],
          [
           "Switzerland",
           1319263
          ],
          [
           "United Kingdom",
           1135553
          ],
          [
           "Turkey",
           1132476
          ],
          [
           "France",
           913533
          ]
         ],
         "geo": "geo",
         "hoverlabel": {
          "namelength": 0
         },
         "hovertemplate": "<b>%{hovertext}</b><br><br>Origin=Germany<br>plot_tot=%{marker.size}<br>Destination=%{location}<br>Tot Immigrants=%{customdata[1]}",
         "hovertext": [
          "United States of America",
          "Switzerland",
          "United Kingdom",
          "Turkey",
          "France"
         ],
         "legendgroup": "Origin=Germany",
         "locationmode": "country names",
         "locations": [
          "United States of America",
          "Switzerland",
          "United Kingdom",
          "Turkey",
          "France"
         ],
         "marker": {
          "color": "#FFA15A",
          "size": [
           21.31706752893409,
           20.33130076922293,
           20.114963612271442,
           20.11104904560198,
           19.80109731941047
          ],
          "sizemode": "area",
          "sizeref": 0.06377163744311538
         },
         "name": "Origin=Germany",
         "showlegend": true,
         "text": [
          "United States of America",
          "Switzerland",
          "United Kingdom",
          "Turkey",
          "France"
         ],
         "type": "scattergeo"
        },
        {
         "customdata": [
          [
           "United Arab Emirates",
           10695231
          ],
          [
           "Pakistan",
           7965782
          ],
          [
           "United States of America",
           7716612
          ],
          [
           "Saudi Arabia",
           7065256
          ],
          [
           "Kuwait",
           3378861
          ]
         ],
         "geo": "geo",
         "hoverlabel": {
          "namelength": 0
         },
         "hovertemplate": "<b>%{hovertext}</b><br><br>Origin=India<br>plot_tot=%{marker.size}<br>Destination=%{location}<br>Tot Immigrants=%{customdata[1]}",
         "hovertext": [
          "United Arab Emirates",
          "Pakistan",
          "United States of America",
          "Saudi Arabia",
          "Kuwait"
         ],
         "legendgroup": "Origin=India",
         "locationmode": "country names",
         "locations": [
          "United Arab Emirates",
          "Pakistan",
          "United States of America",
          "Saudi Arabia",
          "Kuwait"
         ],
         "marker": {
          "color": "#19d3f3",
          "size": [
           23.350464306972132,
           22.925384567250923,
           22.879536136551497,
           22.752310404934953,
           21.68810557128033
          ],
          "sizemode": "area",
          "sizeref": 0.06377163744311538
         },
         "name": "Origin=India",
         "showlegend": true,
         "text": [
          "United Arab Emirates",
          "Pakistan",
          "United States of America",
          "Saudi Arabia",
          "Kuwait"
         ],
         "type": "scattergeo"
        },
        {
         "customdata": [
          [
           "Saudi Arabia",
           4813388
          ],
          [
           "Malaysia",
           3962266
          ],
          [
           "United Arab Emirates",
           985718
          ],
          [
           "Bangladesh",
           576392
          ],
          [
           "Netherlands",
           561126
          ]
         ],
         "geo": "geo",
         "hoverlabel": {
          "namelength": 0
         },
         "hovertemplate": "<b>%{hovertext}</b><br><br>Origin=Indonesia<br>plot_tot=%{marker.size}<br>Destination=%{location}<br>Tot Immigrants=%{customdata[1]}",
         "hovertext": [
          "Saudi Arabia",
          "Malaysia",
          "United Arab Emirates",
          "Bangladesh",
          "Netherlands"
         ],
         "legendgroup": "Origin=Indonesia",
         "locationmode": "country names",
         "locations": [
          "Saudi Arabia",
          "Malaysia",
          "United Arab Emirates",
          "Bangladesh",
          "Netherlands"
         ],
         "marker": {
          "color": "#FF6692",
          "size": [
           22.198621290801555,
           21.917894305684626,
           19.910815445389318,
           19.136690786284618,
           19.097965236651376
          ],
          "sizemode": "area",
          "sizeref": 0.06377163744311538
         },
         "name": "Origin=Indonesia",
         "showlegend": true,
         "text": [
          "Saudi Arabia",
          "Malaysia",
          "United Arab Emirates",
          "Bangladesh",
          "Netherlands"
         ],
         "type": "scattergeo"
        },
        {
         "customdata": [
          [
           "United States of America",
           1610047
          ],
          [
           "Germany",
           1510849
          ],
          [
           "France",
           1460770
          ],
          [
           "Canada",
           1065805
          ],
          [
           "Switzerland",
           963698
          ]
         ],
         "geo": "geo",
         "hoverlabel": {
          "namelength": 0
         },
         "hovertemplate": "<b>%{hovertext}</b><br><br>Origin=Italy<br>plot_tot=%{marker.size}<br>Destination=%{location}<br>Tot Immigrants=%{customdata[1]}",
         "hovertext": [
          "United States of America",
          "Germany",
          "France",
          "Canada",
          "Switzerland"
         ],
         "legendgroup": "Origin=Italy",
         "locationmode": "country names",
         "locations": [
          "United States of America",
          "Germany",
          "France",
          "Canada",
          "Switzerland"
         ],
         "marker": {
          "color": "#B6E880",
          "size": [
           20.61867137299153,
           20.526928048597902,
           20.478297611270683,
           20.023512075650995,
           19.878221585452977
          ],
          "sizemode": "area",
          "sizeref": 0.06377163744311538
         },
         "name": "Origin=Italy",
         "showlegend": true,
         "text": [
          "United States of America",
          "Germany",
          "France",
          "Canada",
          "Switzerland"
         ],
         "type": "scattergeo"
        },
        {
         "customdata": [
          [
           "Russian Federation",
           10203137
          ],
          [
           "Germany",
           3371159
          ],
          [
           "Ukraine",
           900364
          ],
          [
           "Belarus",
           281792
          ],
          [
           "Greece",
           108041
          ]
         ],
         "geo": "geo",
         "hoverlabel": {
          "namelength": 0
         },
         "hovertemplate": "<b>%{hovertext}</b><br><br>Origin=Kazakhstan<br>plot_tot=%{marker.size}<br>Destination=%{location}<br>Tot Immigrants=%{customdata[1]}",
         "hovertext": [
          "Russian Federation",
          "Germany",
          "Ukraine",
          "Belarus",
          "Greece"
         ],
         "legendgroup": "Origin=Kazakhstan",
         "locationmode": "country names",
         "locations": [
          "Russian Federation",
          "Germany",
          "Ukraine",
          "Belarus",
          "Greece"
         ],
         "marker": {
          "color": "#FF97FF",
          "size": [
           23.28250944763805,
           21.684813242656944,
           19.780148847910603,
           18.104271128936894,
           16.721219372676266
          ],
          "sizemode": "area",
          "sizeref": 0.06377163744311538
         },
         "name": "Origin=Kazakhstan",
         "showlegend": true,
         "text": [
          "Russian Federation",
          "Germany",
          "Ukraine",
          "Belarus",
          "Greece"
         ],
         "type": "scattergeo"
        },
        {
         "customdata": [
          [
           "United States of America",
           47738668
          ],
          [
           "Canada",
           289855
          ],
          [
           "Spain",
           178299
          ],
          [
           "Guatemala",
           64200
          ],
          [
           "Germany",
           59245
          ]
         ],
         "geo": "geo",
         "hoverlabel": {
          "namelength": 0
         },
         "hovertemplate": "<b>%{hovertext}</b><br><br>Origin=Mexico<br>plot_tot=%{marker.size}<br>Destination=%{location}<br>Tot Immigrants=%{customdata[1]}",
         "hovertext": [
          "United States of America",
          "Canada",
          "Spain",
          "Guatemala",
          "Germany"
         ],
         "legendgroup": "Origin=Mexico",
         "locationmode": "country names",
         "locations": [
          "United States of America",
          "Canada",
          "Spain",
          "Guatemala",
          "Germany"
         ],
         "marker": {
          "color": "#FECB52",
          "size": [
           25.508654977246152,
           18.144971846759564,
           17.443939085985885,
           15.970285676897028,
           15.854405782006125
          ],
          "sizemode": "area",
          "sizeref": 0.06377163744311538
         },
         "name": "Origin=Mexico",
         "showlegend": true,
         "text": [
          "United States of America",
          "Canada",
          "Spain",
          "Guatemala",
          "Germany"
         ],
         "type": "scattergeo"
        },
        {
         "customdata": [
          [
           "India",
           4599050
          ],
          [
           "Saudi Arabia",
           4194627
          ],
          [
           "United Arab Emirates",
           3084132
          ],
          [
           "United Kingdom",
           1894315
          ],
          [
           "United States of America",
           1293151
          ]
         ],
         "geo": "geo",
         "hoverlabel": {
          "namelength": 0
         },
         "hovertemplate": "<b>%{hovertext}</b><br><br>Origin=Pakistan<br>plot_tot=%{marker.size}<br>Destination=%{location}<br>Tot Immigrants=%{customdata[1]}",
         "hovertext": [
          "India",
          "Saudi Arabia",
          "United Arab Emirates",
          "United Kingdom",
          "United States of America"
         ],
         "legendgroup": "Origin=Pakistan",
         "locationmode": "country names",
         "locations": [
          "India",
          "Saudi Arabia",
          "United Arab Emirates",
          "United Kingdom",
          "United States of America"
         ],
         "marker": {
          "color": "#636efa",
          "size": [
           22.13290445183435,
           22.000111096514786,
           21.55643308284886,
           20.853244821540876,
           20.30245931642268
          ],
          "sizemode": "area",
          "sizeref": 0.06377163744311538
         },
         "name": "Origin=Pakistan",
         "showlegend": true,
         "text": [
          "India",
          "Saudi Arabia",
          "United Arab Emirates",
          "United Kingdom",
          "United States of America"
         ],
         "type": "scattergeo"
        },
        {
         "customdata": [
          [
           "United States of America",
           7525424
          ],
          [
           "Canada",
           1842543
          ],
          [
           "Saudi Arabia",
           1815821
          ],
          [
           "United Arab Emirates",
           1733296
          ],
          [
           "Japan",
           876832
          ]
         ],
         "geo": "geo",
         "hoverlabel": {
          "namelength": 0
         },
         "hovertemplate": "<b>%{hovertext}</b><br><br>Origin=Philippines<br>plot_tot=%{marker.size}<br>Destination=%{location}<br>Tot Immigrants=%{customdata[1]}",
         "hovertext": [
          "United States of America",
          "Canada",
          "Saudi Arabia",
          "United Arab Emirates",
          "Japan"
         ],
         "legendgroup": "Origin=Philippines",
         "locationmode": "country names",
         "locations": [
          "United States of America",
          "Canada",
          "Saudi Arabia",
          "United Arab Emirates",
          "Japan"
         ],
         "marker": {
          "color": "#EF553B",
          "size": [
           22.843341438301447,
           20.813266857661006,
           20.7921905609726,
           20.725086618090454,
           19.741940924878133
          ],
          "sizemode": "area",
          "sizeref": 0.06377163744311538
         },
         "name": "Origin=Philippines",
         "showlegend": true,
         "text": [
          "United States of America",
          "Canada",
          "Saudi Arabia",
          "United Arab Emirates",
          "Japan"
         ],
         "type": "scattergeo"
        },
        {
         "customdata": [
          [
           "Germany",
           6283106
          ],
          [
           "United Kingdom",
           2660666
          ],
          [
           "United States of America",
           1895490
          ],
          [
           "Canada",
           659865
          ],
          [
           "Ireland",
           479616
          ]
         ],
         "geo": "geo",
         "hoverlabel": {
          "namelength": 0
         },
         "hovertemplate": "<b>%{hovertext}</b><br><br>Origin=Poland<br>plot_tot=%{marker.size}<br>Destination=%{location}<br>Tot Immigrants=%{customdata[1]}",
         "hovertext": [
          "Germany",
          "United Kingdom",
          "United States of America",
          "Canada",
          "Ireland"
         ],
         "legendgroup": "Origin=Poland",
         "locationmode": "country names",
         "locations": [
          "Germany",
          "United Kingdom",
          "United States of America",
          "Canada",
          "Ireland"
         ],
         "marker": {
          "color": "#00cc96",
          "size": [
           22.58304648879771,
           21.34335598596505,
           20.854139414654433,
           19.33181137201053,
           18.871520262329113
          ],
          "sizemode": "area",
          "sizeref": 0.06377163744311538
         },
         "name": "Origin=Poland",
         "showlegend": true,
         "text": [
          "Germany",
          "United Kingdom",
          "United States of America",
          "Canada",
          "Ireland"
         ],
         "type": "scattergeo"
        },
        {
         "customdata": [
          [
           "Italy",
           3652722
          ],
          [
           "Spain",
           2318393
          ],
          [
           "Germany",
           1975017
          ],
          [
           "Hungary",
           807465
          ],
          [
           "United States of America",
           666402
          ]
         ],
         "geo": "geo",
         "hoverlabel": {
          "namelength": 0
         },
         "hovertemplate": "<b>%{hovertext}</b><br><br>Origin=Romania<br>plot_tot=%{marker.size}<br>Destination=%{location}<br>Tot Immigrants=%{customdata[1]}",
         "hovertext": [
          "Italy",
          "Spain",
          "Germany",
          "Hungary",
          "United States of America"
         ],
         "legendgroup": "Origin=Romania",
         "locationmode": "country names",
         "locations": [
          "Italy",
          "Spain",
          "Germany",
          "Hungary",
          "United States of America"
         ],
         "marker": {
          "color": "#ab63fa",
          "size": [
           21.800540527107547,
           21.14469371336179,
           20.913433640695,
           19.62304020121456,
           19.346033204950825
          ],
          "sizemode": "area",
          "sizeref": 0.06377163744311538
         },
         "name": "Origin=Romania",
         "showlegend": true,
         "text": [
          "Italy",
          "Spain",
          "Germany",
          "Hungary",
          "United States of America"
         ],
         "type": "scattergeo"
        },
        {
         "customdata": [
          [
           "Ukraine",
           13274807
          ],
          [
           "Kazakhstan",
           9098079
          ],
          [
           "Germany",
           3758492
          ],
          [
           "Uzbekistan",
           3670342
          ],
          [
           "Belarus",
           2748608
          ]
         ],
         "geo": "geo",
         "hoverlabel": {
          "namelength": 0
         },
         "hovertemplate": "<b>%{hovertext}</b><br><br>Origin=Russian Federation<br>plot_tot=%{marker.size}<br>Destination=%{location}<br>Tot Immigrants=%{customdata[1]}",
         "hovertext": [
          "Ukraine",
          "Kazakhstan",
          "Germany",
          "Uzbekistan",
          "Belarus"
         ],
         "legendgroup": "Origin=Russian Federation",
         "locationmode": "country names",
         "locations": [
          "Ukraine",
          "Kazakhstan",
          "Germany",
          "Uzbekistan",
          "Belarus"
         ],
         "marker": {
          "color": "#FFA15A",
          "size": [
           23.66218755031313,
           23.117130531148003,
           21.841722502367407,
           21.80748306801006,
           21.390269737076512
          ],
          "sizemode": "area",
          "sizeref": 0.06377163744311538
         },
         "name": "Origin=Russian Federation",
         "showlegend": true,
         "text": [
          "Ukraine",
          "Kazakhstan",
          "Germany",
          "Uzbekistan",
          "Belarus"
         ],
         "type": "scattergeo"
        },
        {
         "customdata": [
          [
           "Jordan",
           7388580
          ],
          [
           "Syrian Arab Republic",
           2185692
          ],
          [
           "Lebanon",
           2052147
          ],
          [
           "Libya",
           1064457
          ],
          [
           "Egypt",
           522099
          ]
         ],
         "geo": "geo",
         "hoverlabel": {
          "namelength": 0
         },
         "hovertemplate": "<b>%{hovertext}</b><br><br>Origin=State of Palestine<br>plot_tot=%{marker.size}<br>Destination=%{location}<br>Tot Immigrants=%{customdata[1]}",
         "hovertext": [
          "Jordan",
          "Syrian Arab Republic",
          "Lebanon",
          "Libya",
          "Egypt"
         ],
         "legendgroup": "Origin=State of Palestine",
         "locationmode": "country names",
         "locations": [
          "Jordan",
          "Syrian Arab Republic",
          "Lebanon",
          "Libya",
          "Egypt"
         ],
         "marker": {
          "color": "#19d3f3",
          "size": [
           22.81686569096127,
           21.05965868516508,
           20.96870264752795,
           20.02168624091828,
           18.993963869865762
          ],
          "sizemode": "area",
          "sizeref": 0.06377163744311538
         },
         "name": "Origin=State of Palestine",
         "showlegend": true,
         "text": [
          "Jordan",
          "Syrian Arab Republic",
          "Lebanon",
          "Libya",
          "Egypt"
         ],
         "type": "scattergeo"
        },
        {
         "customdata": [
          [
           "Turkey",
           6050496
          ],
          [
           "Lebanon",
           2483868
          ],
          [
           "Saudi Arabia",
           2318276
          ],
          [
           "Jordan",
           1567023
          ],
          [
           "Iraq",
           521451
          ]
         ],
         "geo": "geo",
         "hoverlabel": {
          "namelength": 0
         },
         "hovertemplate": "<b>%{hovertext}</b><br><br>Origin=Syrian Arab Republic<br>plot_tot=%{marker.size}<br>Destination=%{location}<br>Tot Immigrants=%{customdata[1]}",
         "hovertext": [
          "Turkey",
          "Lebanon",
          "Saudi Arabia",
          "Jordan",
          "Iraq"
         ],
         "legendgroup": "Origin=Syrian Arab Republic",
         "locationmode": "country names",
         "locations": [
          "Turkey",
          "Lebanon",
          "Saudi Arabia",
          "Jordan",
          "Iraq"
         ],
         "marker": {
          "color": "#FF6692",
          "size": [
           22.52862198401044,
           21.244157075891643,
           21.14462090448981,
           20.579594924464867,
           18.992172165574345
          ],
          "sizemode": "area",
          "sizeref": 0.06377163744311538
         },
         "name": "Origin=Syrian Arab Republic",
         "showlegend": true,
         "text": [
          "Turkey",
          "Lebanon",
          "Saudi Arabia",
          "Jordan",
          "Iraq"
         ],
         "type": "scattergeo"
        },
        {
         "customdata": [
          [
           "Germany",
           5881061
          ],
          [
           "France",
           1109176
          ],
          [
           "United States of America",
           926062
          ],
          [
           "Netherlands",
           801900
          ],
          [
           "Austria",
           680767
          ]
         ],
         "geo": "geo",
         "hoverlabel": {
          "namelength": 0
         },
         "hovertemplate": "<b>%{hovertext}</b><br><br>Origin=Turkey<br>plot_tot=%{marker.size}<br>Destination=%{location}<br>Tot Immigrants=%{customdata[1]}",
         "hovertext": [
          "Germany",
          "France",
          "United States of America",
          "Netherlands",
          "Austria"
         ],
         "legendgroup": "Origin=Turkey",
         "locationmode": "country names",
         "locations": [
          "Germany",
          "France",
          "United States of America",
          "Netherlands",
          "Austria"
         ],
         "marker": {
          "color": "#B6E880",
          "size": [
           22.487645023935748,
           20.081056874572248,
           19.82074925982105,
           19.61306281273896,
           19.376801578895694
          ],
          "sizemode": "area",
          "sizeref": 0.06377163744311538
         },
         "name": "Origin=Turkey",
         "showlegend": true,
         "text": [
          "Germany",
          "France",
          "United States of America",
          "Netherlands",
          "Austria"
         ],
         "type": "scattergeo"
        },
        {
         "customdata": [
          [
           "Russian Federation",
           12814442
          ],
          [
           "United States of America",
           1366382
          ],
          [
           "Kazakhstan",
           1285308
          ],
          [
           "Belarus",
           909274
          ],
          [
           "Poland",
           886185
          ]
         ],
         "geo": "geo",
         "hoverlabel": {
          "namelength": 0
         },
         "hovertemplate": "<b>%{hovertext}</b><br><br>Origin=Ukraine<br>plot_tot=%{marker.size}<br>Destination=%{location}<br>Tot Immigrants=%{customdata[1]}",
         "hovertext": [
          "Russian Federation",
          "United States of America",
          "Kazakhstan",
          "Belarus",
          "Poland"
         ],
         "legendgroup": "Origin=Ukraine",
         "locationmode": "country names",
         "locations": [
          "Russian Federation",
          "United States of America",
          "Kazakhstan",
          "Belarus",
          "Poland"
         ],
         "marker": {
          "color": "#FF97FF",
          "size": [
           23.61126732260226,
           20.38192944421241,
           20.293682685029907,
           19.794355575100134,
           19.757248381706663
          ],
          "sizemode": "area",
          "sizeref": 0.06377163744311538
         },
         "name": "Origin=Ukraine",
         "showlegend": true,
         "text": [
          "Russian Federation",
          "United States of America",
          "Kazakhstan",
          "Belarus",
          "Poland"
         ],
         "type": "scattergeo"
        },
        {
         "customdata": [
          [
           "Australia",
           4947202
          ],
          [
           "United States of America",
           2889784
          ],
          [
           "Canada",
           2321347
          ],
          [
           "Spain",
           1156417
          ],
          [
           "New Zealand",
           1021036
          ]
         ],
         "geo": "geo",
         "hoverlabel": {
          "namelength": 0
         },
         "hovertemplate": "<b>%{hovertext}</b><br><br>Origin=United Kingdom<br>plot_tot=%{marker.size}<br>Destination=%{location}<br>Tot Immigrants=%{customdata[1]}",
         "hovertext": [
          "Australia",
          "United States of America",
          "Canada",
          "Spain",
          "New Zealand"
         ],
         "legendgroup": "Origin=United Kingdom",
         "locationmode": "country names",
         "locations": [
          "Australia",
          "United States of America",
          "Canada",
          "Spain",
          "New Zealand"
         ],
         "marker": {
          "color": "#FECB52",
          "size": [
           22.238181376936453,
           21.46253023029414,
           21.14653076532014,
           20.14123029186075,
           19.961602303420257
          ],
          "sizemode": "area",
          "sizeref": 0.06377163744311538
         },
         "name": "Origin=United Kingdom",
         "showlegend": true,
         "text": [
          "Australia",
          "United States of America",
          "Canada",
          "Spain",
          "New Zealand"
         ],
         "type": "scattergeo"
        }
       ],
       "layout": {
        "geo": {
         "center": {},
         "domain": {
          "x": [
           0,
           0.98
          ],
          "y": [
           0,
           1
          ]
         },
         "projection": {
          "type": "mollweide"
         }
        },
        "height": 600,
        "legend": {
         "itemsizing": "constant",
         "tracegroupgap": 0
        },
        "margin": {
         "t": 60
        },
        "template": {
         "data": {
          "bar": [
           {
            "error_x": {
             "color": "#2a3f5f"
            },
            "error_y": {
             "color": "#2a3f5f"
            },
            "marker": {
             "line": {
              "color": "#E5ECF6",
              "width": 0.5
             }
            },
            "type": "bar"
           }
          ],
          "barpolar": [
           {
            "marker": {
             "line": {
              "color": "#E5ECF6",
              "width": 0.5
             }
            },
            "type": "barpolar"
           }
          ],
          "carpet": [
           {
            "aaxis": {
             "endlinecolor": "#2a3f5f",
             "gridcolor": "white",
             "linecolor": "white",
             "minorgridcolor": "white",
             "startlinecolor": "#2a3f5f"
            },
            "baxis": {
             "endlinecolor": "#2a3f5f",
             "gridcolor": "white",
             "linecolor": "white",
             "minorgridcolor": "white",
             "startlinecolor": "#2a3f5f"
            },
            "type": "carpet"
           }
          ],
          "choropleth": [
           {
            "colorbar": {
             "outlinewidth": 0,
             "ticks": ""
            },
            "type": "choropleth"
           }
          ],
          "contour": [
           {
            "colorbar": {
             "outlinewidth": 0,
             "ticks": ""
            },
            "colorscale": [
             [
              0,
              "#0d0887"
             ],
             [
              0.1111111111111111,
              "#46039f"
             ],
             [
              0.2222222222222222,
              "#7201a8"
             ],
             [
              0.3333333333333333,
              "#9c179e"
             ],
             [
              0.4444444444444444,
              "#bd3786"
             ],
             [
              0.5555555555555556,
              "#d8576b"
             ],
             [
              0.6666666666666666,
              "#ed7953"
             ],
             [
              0.7777777777777778,
              "#fb9f3a"
             ],
             [
              0.8888888888888888,
              "#fdca26"
             ],
             [
              1,
              "#f0f921"
             ]
            ],
            "type": "contour"
           }
          ],
          "contourcarpet": [
           {
            "colorbar": {
             "outlinewidth": 0,
             "ticks": ""
            },
            "type": "contourcarpet"
           }
          ],
          "heatmap": [
           {
            "colorbar": {
             "outlinewidth": 0,
             "ticks": ""
            },
            "colorscale": [
             [
              0,
              "#0d0887"
             ],
             [
              0.1111111111111111,
              "#46039f"
             ],
             [
              0.2222222222222222,
              "#7201a8"
             ],
             [
              0.3333333333333333,
              "#9c179e"
             ],
             [
              0.4444444444444444,
              "#bd3786"
             ],
             [
              0.5555555555555556,
              "#d8576b"
             ],
             [
              0.6666666666666666,
              "#ed7953"
             ],
             [
              0.7777777777777778,
              "#fb9f3a"
             ],
             [
              0.8888888888888888,
              "#fdca26"
             ],
             [
              1,
              "#f0f921"
             ]
            ],
            "type": "heatmap"
           }
          ],
          "heatmapgl": [
           {
            "colorbar": {
             "outlinewidth": 0,
             "ticks": ""
            },
            "colorscale": [
             [
              0,
              "#0d0887"
             ],
             [
              0.1111111111111111,
              "#46039f"
             ],
             [
              0.2222222222222222,
              "#7201a8"
             ],
             [
              0.3333333333333333,
              "#9c179e"
             ],
             [
              0.4444444444444444,
              "#bd3786"
             ],
             [
              0.5555555555555556,
              "#d8576b"
             ],
             [
              0.6666666666666666,
              "#ed7953"
             ],
             [
              0.7777777777777778,
              "#fb9f3a"
             ],
             [
              0.8888888888888888,
              "#fdca26"
             ],
             [
              1,
              "#f0f921"
             ]
            ],
            "type": "heatmapgl"
           }
          ],
          "histogram": [
           {
            "marker": {
             "colorbar": {
              "outlinewidth": 0,
              "ticks": ""
             }
            },
            "type": "histogram"
           }
          ],
          "histogram2d": [
           {
            "colorbar": {
             "outlinewidth": 0,
             "ticks": ""
            },
            "colorscale": [
             [
              0,
              "#0d0887"
             ],
             [
              0.1111111111111111,
              "#46039f"
             ],
             [
              0.2222222222222222,
              "#7201a8"
             ],
             [
              0.3333333333333333,
              "#9c179e"
             ],
             [
              0.4444444444444444,
              "#bd3786"
             ],
             [
              0.5555555555555556,
              "#d8576b"
             ],
             [
              0.6666666666666666,
              "#ed7953"
             ],
             [
              0.7777777777777778,
              "#fb9f3a"
             ],
             [
              0.8888888888888888,
              "#fdca26"
             ],
             [
              1,
              "#f0f921"
             ]
            ],
            "type": "histogram2d"
           }
          ],
          "histogram2dcontour": [
           {
            "colorbar": {
             "outlinewidth": 0,
             "ticks": ""
            },
            "colorscale": [
             [
              0,
              "#0d0887"
             ],
             [
              0.1111111111111111,
              "#46039f"
             ],
             [
              0.2222222222222222,
              "#7201a8"
             ],
             [
              0.3333333333333333,
              "#9c179e"
             ],
             [
              0.4444444444444444,
              "#bd3786"
             ],
             [
              0.5555555555555556,
              "#d8576b"
             ],
             [
              0.6666666666666666,
              "#ed7953"
             ],
             [
              0.7777777777777778,
              "#fb9f3a"
             ],
             [
              0.8888888888888888,
              "#fdca26"
             ],
             [
              1,
              "#f0f921"
             ]
            ],
            "type": "histogram2dcontour"
           }
          ],
          "mesh3d": [
           {
            "colorbar": {
             "outlinewidth": 0,
             "ticks": ""
            },
            "type": "mesh3d"
           }
          ],
          "parcoords": [
           {
            "line": {
             "colorbar": {
              "outlinewidth": 0,
              "ticks": ""
             }
            },
            "type": "parcoords"
           }
          ],
          "scatter": [
           {
            "marker": {
             "colorbar": {
              "outlinewidth": 0,
              "ticks": ""
             }
            },
            "type": "scatter"
           }
          ],
          "scatter3d": [
           {
            "line": {
             "colorbar": {
              "outlinewidth": 0,
              "ticks": ""
             }
            },
            "marker": {
             "colorbar": {
              "outlinewidth": 0,
              "ticks": ""
             }
            },
            "type": "scatter3d"
           }
          ],
          "scattercarpet": [
           {
            "marker": {
             "colorbar": {
              "outlinewidth": 0,
              "ticks": ""
             }
            },
            "type": "scattercarpet"
           }
          ],
          "scattergeo": [
           {
            "marker": {
             "colorbar": {
              "outlinewidth": 0,
              "ticks": ""
             }
            },
            "type": "scattergeo"
           }
          ],
          "scattergl": [
           {
            "marker": {
             "colorbar": {
              "outlinewidth": 0,
              "ticks": ""
             }
            },
            "type": "scattergl"
           }
          ],
          "scattermapbox": [
           {
            "marker": {
             "colorbar": {
              "outlinewidth": 0,
              "ticks": ""
             }
            },
            "type": "scattermapbox"
           }
          ],
          "scatterpolar": [
           {
            "marker": {
             "colorbar": {
              "outlinewidth": 0,
              "ticks": ""
             }
            },
            "type": "scatterpolar"
           }
          ],
          "scatterpolargl": [
           {
            "marker": {
             "colorbar": {
              "outlinewidth": 0,
              "ticks": ""
             }
            },
            "type": "scatterpolargl"
           }
          ],
          "scatterternary": [
           {
            "marker": {
             "colorbar": {
              "outlinewidth": 0,
              "ticks": ""
             }
            },
            "type": "scatterternary"
           }
          ],
          "surface": [
           {
            "colorbar": {
             "outlinewidth": 0,
             "ticks": ""
            },
            "colorscale": [
             [
              0,
              "#0d0887"
             ],
             [
              0.1111111111111111,
              "#46039f"
             ],
             [
              0.2222222222222222,
              "#7201a8"
             ],
             [
              0.3333333333333333,
              "#9c179e"
             ],
             [
              0.4444444444444444,
              "#bd3786"
             ],
             [
              0.5555555555555556,
              "#d8576b"
             ],
             [
              0.6666666666666666,
              "#ed7953"
             ],
             [
              0.7777777777777778,
              "#fb9f3a"
             ],
             [
              0.8888888888888888,
              "#fdca26"
             ],
             [
              1,
              "#f0f921"
             ]
            ],
            "type": "surface"
           }
          ],
          "table": [
           {
            "cells": {
             "fill": {
              "color": "#EBF0F8"
             },
             "line": {
              "color": "white"
             }
            },
            "header": {
             "fill": {
              "color": "#C8D4E3"
             },
             "line": {
              "color": "white"
             }
            },
            "type": "table"
           }
          ]
         },
         "layout": {
          "annotationdefaults": {
           "arrowcolor": "#2a3f5f",
           "arrowhead": 0,
           "arrowwidth": 1
          },
          "colorscale": {
           "diverging": [
            [
             0,
             "#8e0152"
            ],
            [
             0.1,
             "#c51b7d"
            ],
            [
             0.2,
             "#de77ae"
            ],
            [
             0.3,
             "#f1b6da"
            ],
            [
             0.4,
             "#fde0ef"
            ],
            [
             0.5,
             "#f7f7f7"
            ],
            [
             0.6,
             "#e6f5d0"
            ],
            [
             0.7,
             "#b8e186"
            ],
            [
             0.8,
             "#7fbc41"
            ],
            [
             0.9,
             "#4d9221"
            ],
            [
             1,
             "#276419"
            ]
           ],
           "sequential": [
            [
             0,
             "#0d0887"
            ],
            [
             0.1111111111111111,
             "#46039f"
            ],
            [
             0.2222222222222222,
             "#7201a8"
            ],
            [
             0.3333333333333333,
             "#9c179e"
            ],
            [
             0.4444444444444444,
             "#bd3786"
            ],
            [
             0.5555555555555556,
             "#d8576b"
            ],
            [
             0.6666666666666666,
             "#ed7953"
            ],
            [
             0.7777777777777778,
             "#fb9f3a"
            ],
            [
             0.8888888888888888,
             "#fdca26"
            ],
            [
             1,
             "#f0f921"
            ]
           ],
           "sequentialminus": [
            [
             0,
             "#0d0887"
            ],
            [
             0.1111111111111111,
             "#46039f"
            ],
            [
             0.2222222222222222,
             "#7201a8"
            ],
            [
             0.3333333333333333,
             "#9c179e"
            ],
            [
             0.4444444444444444,
             "#bd3786"
            ],
            [
             0.5555555555555556,
             "#d8576b"
            ],
            [
             0.6666666666666666,
             "#ed7953"
            ],
            [
             0.7777777777777778,
             "#fb9f3a"
            ],
            [
             0.8888888888888888,
             "#fdca26"
            ],
            [
             1,
             "#f0f921"
            ]
           ]
          },
          "colorway": [
           "#636efa",
           "#EF553B",
           "#00cc96",
           "#ab63fa",
           "#FFA15A",
           "#19d3f3",
           "#FF6692",
           "#B6E880",
           "#FF97FF",
           "#FECB52"
          ],
          "font": {
           "color": "#2a3f5f"
          },
          "geo": {
           "bgcolor": "white",
           "lakecolor": "white",
           "landcolor": "#E5ECF6",
           "showlakes": true,
           "showland": true,
           "subunitcolor": "white"
          },
          "hoverlabel": {
           "align": "left"
          },
          "hovermode": "closest",
          "mapbox": {
           "style": "light"
          },
          "paper_bgcolor": "white",
          "plot_bgcolor": "#E5ECF6",
          "polar": {
           "angularaxis": {
            "gridcolor": "white",
            "linecolor": "white",
            "ticks": ""
           },
           "bgcolor": "#E5ECF6",
           "radialaxis": {
            "gridcolor": "white",
            "linecolor": "white",
            "ticks": ""
           }
          },
          "scene": {
           "xaxis": {
            "backgroundcolor": "#E5ECF6",
            "gridcolor": "white",
            "gridwidth": 2,
            "linecolor": "white",
            "showbackground": true,
            "ticks": "",
            "zerolinecolor": "white"
           },
           "yaxis": {
            "backgroundcolor": "#E5ECF6",
            "gridcolor": "white",
            "gridwidth": 2,
            "linecolor": "white",
            "showbackground": true,
            "ticks": "",
            "zerolinecolor": "white"
           },
           "zaxis": {
            "backgroundcolor": "#E5ECF6",
            "gridcolor": "white",
            "gridwidth": 2,
            "linecolor": "white",
            "showbackground": true,
            "ticks": "",
            "zerolinecolor": "white"
           }
          },
          "shapedefaults": {
           "line": {
            "color": "#2a3f5f"
           }
          },
          "ternary": {
           "aaxis": {
            "gridcolor": "white",
            "linecolor": "white",
            "ticks": ""
           },
           "baxis": {
            "gridcolor": "white",
            "linecolor": "white",
            "ticks": ""
           },
           "bgcolor": "#E5ECF6",
           "caxis": {
            "gridcolor": "white",
            "linecolor": "white",
            "ticks": ""
           }
          },
          "title": {
           "x": 0.05
          },
          "xaxis": {
           "automargin": true,
           "gridcolor": "white",
           "linecolor": "white",
           "ticks": "",
           "zerolinecolor": "white",
           "zerolinewidth": 2
          },
          "yaxis": {
           "automargin": true,
           "gridcolor": "white",
           "linecolor": "white",
           "ticks": "",
           "zerolinecolor": "white",
           "zerolinewidth": 2
          }
         }
        }
       }
      },
      "text/html": [
       "<div>\n",
       "        \n",
       "        \n",
       "            <div id=\"a0380976-c470-434a-a63d-ff0f61b8a534\" class=\"plotly-graph-div\" style=\"height:600px; width:100%;\"></div>\n",
       "            <script type=\"text/javascript\">\n",
       "                require([\"plotly\"], function(Plotly) {\n",
       "                    window.PLOTLYENV=window.PLOTLYENV || {};\n",
       "                    \n",
       "                if (document.getElementById(\"a0380976-c470-434a-a63d-ff0f61b8a534\")) {\n",
       "                    Plotly.newPlot(\n",
       "                        'a0380976-c470-434a-a63d-ff0f61b8a534',\n",
       "                        [{\"customdata\": [[\"Iran (Islamic Republic of)\", 9216348], [\"Pakistan\", 6136811], [\"Saudi Arabia\", 1317707], [\"Germany\", 340400], [\"United States of America\", 254773]], \"geo\": \"geo\", \"hoverlabel\": {\"namelength\": 0}, \"hovertemplate\": \"<b>%{hovertext}</b><br><br>Origin=Afghanistan<br>plot_tot=%{marker.size}<br>Destination=%{location}<br>Tot Immigrants=%{customdata[1]}\", \"hovertext\": [\"Iran (Islamic Republic of)\", \"Pakistan\", \"Saudi Arabia\", \"Germany\", \"United States of America\"], \"legendgroup\": \"Origin=Afghanistan\", \"locationmode\": \"country names\", \"locations\": [\"Iran (Islamic Republic of)\", \"Pakistan\", \"Saudi Arabia\", \"Germany\", \"United States of America\"], \"marker\": {\"color\": \"#636efa\", \"size\": [23.13576376184176, 22.549057721715762, 20.329598183494493, 18.37687151146069, 17.95885286808254], \"sizemode\": \"area\", \"sizeref\": 0.06377163744311538}, \"name\": \"Origin=Afghanistan\", \"showlegend\": true, \"text\": [\"Iran (Islamic Republic of)\", \"Pakistan\", \"Saudi Arabia\", \"Germany\", \"United States of America\"], \"type\": \"scattergeo\"}, {\"customdata\": [[\"India\", 13183446], [\"Saudi Arabia\", 3611933], [\"United Arab Emirates\", 3377469], [\"Malaysia\", 1249163], [\"Kuwait\", 1164539]], \"geo\": \"geo\", \"hoverlabel\": {\"namelength\": 0}, \"hovertemplate\": \"<b>%{hovertext}</b><br><br>Origin=Bangladesh<br>plot_tot=%{marker.size}<br>Destination=%{location}<br>Tot Immigrants=%{customdata[1]}\", \"hovertext\": [\"India\", \"Saudi Arabia\", \"United Arab Emirates\", \"Malaysia\", \"Kuwait\"], \"legendgroup\": \"Origin=Bangladesh\", \"locationmode\": \"country names\", \"locations\": [\"India\", \"Saudi Arabia\", \"United Arab Emirates\", \"Malaysia\", \"Kuwait\"], \"marker\": {\"color\": \"#EF553B\", \"size\": [23.652224187615506, 21.78433970094022, 21.687511097201853, 20.252530312041333, 20.151327525029618], \"sizemode\": \"area\", \"sizeref\": 0.06377163744311538}, \"name\": \"Origin=Bangladesh\", \"showlegend\": true, \"text\": [\"India\", \"Saudi Arabia\", \"United Arab Emirates\", \"Malaysia\", \"Kuwait\"], \"type\": \"scattergeo\"}, {\"customdata\": [[\"China, Hong Kong SAR\", 8982233], [\"United States of America\", 8298810], [\"Japan\", 2788820], [\"Canada\", 2516940], [\"Republic of Korea\", 1956331]], \"geo\": \"geo\", \"hoverlabel\": {\"namelength\": 0}, \"hovertemplate\": \"<b>%{hovertext}</b><br><br>Origin=China<br>plot_tot=%{marker.size}<br>Destination=%{location}<br>Tot Immigrants=%{customdata[1]}\", \"hovertext\": [\"China, Hong Kong SAR\", \"United States of America\", \"Japan\", \"Canada\", \"Republic of Korea\"], \"legendgroup\": \"Origin=China\", \"locationmode\": \"country names\", \"locations\": [\"China, Hong Kong SAR\", \"United States of America\", \"Japan\", \"Canada\", \"Republic of Korea\"], \"marker\": {\"color\": \"#00cc96\", \"size\": [23.098642715577114, 22.984473046725576, 21.411223390213287, 21.263239394589775, 20.899719056004102], \"sizemode\": \"area\", \"sizeref\": 0.06377163744311538}, \"name\": \"Origin=China\", \"showlegend\": true, \"text\": [\"China, Hong Kong SAR\", \"United States of America\", \"Japan\", \"Canada\", \"Republic of Korea\"], \"type\": \"scattergeo\"}, {\"customdata\": [[\"United Arab Emirates\", 2780063], [\"Saudi Arabia\", 2710183], [\"Kuwait\", 1107108], [\"United States of America\", 626221], [\"Jordan\", 584967]], \"geo\": \"geo\", \"hoverlabel\": {\"namelength\": 0}, \"hovertemplate\": \"<b>%{hovertext}</b><br><br>Origin=Egypt<br>plot_tot=%{marker.size}<br>Destination=%{location}<br>Tot Immigrants=%{customdata[1]}\", \"hovertext\": [\"United Arab Emirates\", \"Saudi Arabia\", \"Kuwait\", \"United States of America\", \"Jordan\"], \"legendgroup\": \"Origin=Egypt\", \"locationmode\": \"country names\", \"locations\": [\"United Arab Emirates\", \"Saudi Arabia\", \"Kuwait\", \"United States of America\", \"Jordan\"], \"marker\": {\"color\": \"#ab63fa\", \"size\": [21.4066861460707, 21.369958839456377, 20.07836453531389, 19.256312363762746, 19.157995714040176], \"sizemode\": \"area\", \"sizeref\": 0.06377163744311538}, \"name\": \"Origin=Egypt\", \"showlegend\": true, \"text\": [\"United Arab Emirates\", \"Saudi Arabia\", \"Kuwait\", \"United States of America\", \"Jordan\"], \"type\": \"scattergeo\"}, {\"customdata\": [[\"United States of America\", 2612623], [\"Switzerland\", 1319263], [\"United Kingdom\", 1135553], [\"Turkey\", 1132476], [\"France\", 913533]], \"geo\": \"geo\", \"hoverlabel\": {\"namelength\": 0}, \"hovertemplate\": \"<b>%{hovertext}</b><br><br>Origin=Germany<br>plot_tot=%{marker.size}<br>Destination=%{location}<br>Tot Immigrants=%{customdata[1]}\", \"hovertext\": [\"United States of America\", \"Switzerland\", \"United Kingdom\", \"Turkey\", \"France\"], \"legendgroup\": \"Origin=Germany\", \"locationmode\": \"country names\", \"locations\": [\"United States of America\", \"Switzerland\", \"United Kingdom\", \"Turkey\", \"France\"], \"marker\": {\"color\": \"#FFA15A\", \"size\": [21.31706752893409, 20.33130076922293, 20.114963612271442, 20.11104904560198, 19.80109731941047], \"sizemode\": \"area\", \"sizeref\": 0.06377163744311538}, \"name\": \"Origin=Germany\", \"showlegend\": true, \"text\": [\"United States of America\", \"Switzerland\", \"United Kingdom\", \"Turkey\", \"France\"], \"type\": \"scattergeo\"}, {\"customdata\": [[\"United Arab Emirates\", 10695231], [\"Pakistan\", 7965782], [\"United States of America\", 7716612], [\"Saudi Arabia\", 7065256], [\"Kuwait\", 3378861]], \"geo\": \"geo\", \"hoverlabel\": {\"namelength\": 0}, \"hovertemplate\": \"<b>%{hovertext}</b><br><br>Origin=India<br>plot_tot=%{marker.size}<br>Destination=%{location}<br>Tot Immigrants=%{customdata[1]}\", \"hovertext\": [\"United Arab Emirates\", \"Pakistan\", \"United States of America\", \"Saudi Arabia\", \"Kuwait\"], \"legendgroup\": \"Origin=India\", \"locationmode\": \"country names\", \"locations\": [\"United Arab Emirates\", \"Pakistan\", \"United States of America\", \"Saudi Arabia\", \"Kuwait\"], \"marker\": {\"color\": \"#19d3f3\", \"size\": [23.350464306972132, 22.925384567250923, 22.879536136551497, 22.752310404934953, 21.68810557128033], \"sizemode\": \"area\", \"sizeref\": 0.06377163744311538}, \"name\": \"Origin=India\", \"showlegend\": true, \"text\": [\"United Arab Emirates\", \"Pakistan\", \"United States of America\", \"Saudi Arabia\", \"Kuwait\"], \"type\": \"scattergeo\"}, {\"customdata\": [[\"Saudi Arabia\", 4813388], [\"Malaysia\", 3962266], [\"United Arab Emirates\", 985718], [\"Bangladesh\", 576392], [\"Netherlands\", 561126]], \"geo\": \"geo\", \"hoverlabel\": {\"namelength\": 0}, \"hovertemplate\": \"<b>%{hovertext}</b><br><br>Origin=Indonesia<br>plot_tot=%{marker.size}<br>Destination=%{location}<br>Tot Immigrants=%{customdata[1]}\", \"hovertext\": [\"Saudi Arabia\", \"Malaysia\", \"United Arab Emirates\", \"Bangladesh\", \"Netherlands\"], \"legendgroup\": \"Origin=Indonesia\", \"locationmode\": \"country names\", \"locations\": [\"Saudi Arabia\", \"Malaysia\", \"United Arab Emirates\", \"Bangladesh\", \"Netherlands\"], \"marker\": {\"color\": \"#FF6692\", \"size\": [22.198621290801555, 21.917894305684626, 19.910815445389318, 19.136690786284618, 19.097965236651376], \"sizemode\": \"area\", \"sizeref\": 0.06377163744311538}, \"name\": \"Origin=Indonesia\", \"showlegend\": true, \"text\": [\"Saudi Arabia\", \"Malaysia\", \"United Arab Emirates\", \"Bangladesh\", \"Netherlands\"], \"type\": \"scattergeo\"}, {\"customdata\": [[\"United States of America\", 1610047], [\"Germany\", 1510849], [\"France\", 1460770], [\"Canada\", 1065805], [\"Switzerland\", 963698]], \"geo\": \"geo\", \"hoverlabel\": {\"namelength\": 0}, \"hovertemplate\": \"<b>%{hovertext}</b><br><br>Origin=Italy<br>plot_tot=%{marker.size}<br>Destination=%{location}<br>Tot Immigrants=%{customdata[1]}\", \"hovertext\": [\"United States of America\", \"Germany\", \"France\", \"Canada\", \"Switzerland\"], \"legendgroup\": \"Origin=Italy\", \"locationmode\": \"country names\", \"locations\": [\"United States of America\", \"Germany\", \"France\", \"Canada\", \"Switzerland\"], \"marker\": {\"color\": \"#B6E880\", \"size\": [20.61867137299153, 20.526928048597902, 20.478297611270683, 20.023512075650995, 19.878221585452977], \"sizemode\": \"area\", \"sizeref\": 0.06377163744311538}, \"name\": \"Origin=Italy\", \"showlegend\": true, \"text\": [\"United States of America\", \"Germany\", \"France\", \"Canada\", \"Switzerland\"], \"type\": \"scattergeo\"}, {\"customdata\": [[\"Russian Federation\", 10203137], [\"Germany\", 3371159], [\"Ukraine\", 900364], [\"Belarus\", 281792], [\"Greece\", 108041]], \"geo\": \"geo\", \"hoverlabel\": {\"namelength\": 0}, \"hovertemplate\": \"<b>%{hovertext}</b><br><br>Origin=Kazakhstan<br>plot_tot=%{marker.size}<br>Destination=%{location}<br>Tot Immigrants=%{customdata[1]}\", \"hovertext\": [\"Russian Federation\", \"Germany\", \"Ukraine\", \"Belarus\", \"Greece\"], \"legendgroup\": \"Origin=Kazakhstan\", \"locationmode\": \"country names\", \"locations\": [\"Russian Federation\", \"Germany\", \"Ukraine\", \"Belarus\", \"Greece\"], \"marker\": {\"color\": \"#FF97FF\", \"size\": [23.28250944763805, 21.684813242656944, 19.780148847910603, 18.104271128936894, 16.721219372676266], \"sizemode\": \"area\", \"sizeref\": 0.06377163744311538}, \"name\": \"Origin=Kazakhstan\", \"showlegend\": true, \"text\": [\"Russian Federation\", \"Germany\", \"Ukraine\", \"Belarus\", \"Greece\"], \"type\": \"scattergeo\"}, {\"customdata\": [[\"United States of America\", 47738668], [\"Canada\", 289855], [\"Spain\", 178299], [\"Guatemala\", 64200], [\"Germany\", 59245]], \"geo\": \"geo\", \"hoverlabel\": {\"namelength\": 0}, \"hovertemplate\": \"<b>%{hovertext}</b><br><br>Origin=Mexico<br>plot_tot=%{marker.size}<br>Destination=%{location}<br>Tot Immigrants=%{customdata[1]}\", \"hovertext\": [\"United States of America\", \"Canada\", \"Spain\", \"Guatemala\", \"Germany\"], \"legendgroup\": \"Origin=Mexico\", \"locationmode\": \"country names\", \"locations\": [\"United States of America\", \"Canada\", \"Spain\", \"Guatemala\", \"Germany\"], \"marker\": {\"color\": \"#FECB52\", \"size\": [25.508654977246152, 18.144971846759564, 17.443939085985885, 15.970285676897028, 15.854405782006125], \"sizemode\": \"area\", \"sizeref\": 0.06377163744311538}, \"name\": \"Origin=Mexico\", \"showlegend\": true, \"text\": [\"United States of America\", \"Canada\", \"Spain\", \"Guatemala\", \"Germany\"], \"type\": \"scattergeo\"}, {\"customdata\": [[\"India\", 4599050], [\"Saudi Arabia\", 4194627], [\"United Arab Emirates\", 3084132], [\"United Kingdom\", 1894315], [\"United States of America\", 1293151]], \"geo\": \"geo\", \"hoverlabel\": {\"namelength\": 0}, \"hovertemplate\": \"<b>%{hovertext}</b><br><br>Origin=Pakistan<br>plot_tot=%{marker.size}<br>Destination=%{location}<br>Tot Immigrants=%{customdata[1]}\", \"hovertext\": [\"India\", \"Saudi Arabia\", \"United Arab Emirates\", \"United Kingdom\", \"United States of America\"], \"legendgroup\": \"Origin=Pakistan\", \"locationmode\": \"country names\", \"locations\": [\"India\", \"Saudi Arabia\", \"United Arab Emirates\", \"United Kingdom\", \"United States of America\"], \"marker\": {\"color\": \"#636efa\", \"size\": [22.13290445183435, 22.000111096514786, 21.55643308284886, 20.853244821540876, 20.30245931642268], \"sizemode\": \"area\", \"sizeref\": 0.06377163744311538}, \"name\": \"Origin=Pakistan\", \"showlegend\": true, \"text\": [\"India\", \"Saudi Arabia\", \"United Arab Emirates\", \"United Kingdom\", \"United States of America\"], \"type\": \"scattergeo\"}, {\"customdata\": [[\"United States of America\", 7525424], [\"Canada\", 1842543], [\"Saudi Arabia\", 1815821], [\"United Arab Emirates\", 1733296], [\"Japan\", 876832]], \"geo\": \"geo\", \"hoverlabel\": {\"namelength\": 0}, \"hovertemplate\": \"<b>%{hovertext}</b><br><br>Origin=Philippines<br>plot_tot=%{marker.size}<br>Destination=%{location}<br>Tot Immigrants=%{customdata[1]}\", \"hovertext\": [\"United States of America\", \"Canada\", \"Saudi Arabia\", \"United Arab Emirates\", \"Japan\"], \"legendgroup\": \"Origin=Philippines\", \"locationmode\": \"country names\", \"locations\": [\"United States of America\", \"Canada\", \"Saudi Arabia\", \"United Arab Emirates\", \"Japan\"], \"marker\": {\"color\": \"#EF553B\", \"size\": [22.843341438301447, 20.813266857661006, 20.7921905609726, 20.725086618090454, 19.741940924878133], \"sizemode\": \"area\", \"sizeref\": 0.06377163744311538}, \"name\": \"Origin=Philippines\", \"showlegend\": true, \"text\": [\"United States of America\", \"Canada\", \"Saudi Arabia\", \"United Arab Emirates\", \"Japan\"], \"type\": \"scattergeo\"}, {\"customdata\": [[\"Germany\", 6283106], [\"United Kingdom\", 2660666], [\"United States of America\", 1895490], [\"Canada\", 659865], [\"Ireland\", 479616]], \"geo\": \"geo\", \"hoverlabel\": {\"namelength\": 0}, \"hovertemplate\": \"<b>%{hovertext}</b><br><br>Origin=Poland<br>plot_tot=%{marker.size}<br>Destination=%{location}<br>Tot Immigrants=%{customdata[1]}\", \"hovertext\": [\"Germany\", \"United Kingdom\", \"United States of America\", \"Canada\", \"Ireland\"], \"legendgroup\": \"Origin=Poland\", \"locationmode\": \"country names\", \"locations\": [\"Germany\", \"United Kingdom\", \"United States of America\", \"Canada\", \"Ireland\"], \"marker\": {\"color\": \"#00cc96\", \"size\": [22.58304648879771, 21.34335598596505, 20.854139414654433, 19.33181137201053, 18.871520262329113], \"sizemode\": \"area\", \"sizeref\": 0.06377163744311538}, \"name\": \"Origin=Poland\", \"showlegend\": true, \"text\": [\"Germany\", \"United Kingdom\", \"United States of America\", \"Canada\", \"Ireland\"], \"type\": \"scattergeo\"}, {\"customdata\": [[\"Italy\", 3652722], [\"Spain\", 2318393], [\"Germany\", 1975017], [\"Hungary\", 807465], [\"United States of America\", 666402]], \"geo\": \"geo\", \"hoverlabel\": {\"namelength\": 0}, \"hovertemplate\": \"<b>%{hovertext}</b><br><br>Origin=Romania<br>plot_tot=%{marker.size}<br>Destination=%{location}<br>Tot Immigrants=%{customdata[1]}\", \"hovertext\": [\"Italy\", \"Spain\", \"Germany\", \"Hungary\", \"United States of America\"], \"legendgroup\": \"Origin=Romania\", \"locationmode\": \"country names\", \"locations\": [\"Italy\", \"Spain\", \"Germany\", \"Hungary\", \"United States of America\"], \"marker\": {\"color\": \"#ab63fa\", \"size\": [21.800540527107547, 21.14469371336179, 20.913433640695, 19.62304020121456, 19.346033204950825], \"sizemode\": \"area\", \"sizeref\": 0.06377163744311538}, \"name\": \"Origin=Romania\", \"showlegend\": true, \"text\": [\"Italy\", \"Spain\", \"Germany\", \"Hungary\", \"United States of America\"], \"type\": \"scattergeo\"}, {\"customdata\": [[\"Ukraine\", 13274807], [\"Kazakhstan\", 9098079], [\"Germany\", 3758492], [\"Uzbekistan\", 3670342], [\"Belarus\", 2748608]], \"geo\": \"geo\", \"hoverlabel\": {\"namelength\": 0}, \"hovertemplate\": \"<b>%{hovertext}</b><br><br>Origin=Russian Federation<br>plot_tot=%{marker.size}<br>Destination=%{location}<br>Tot Immigrants=%{customdata[1]}\", \"hovertext\": [\"Ukraine\", \"Kazakhstan\", \"Germany\", \"Uzbekistan\", \"Belarus\"], \"legendgroup\": \"Origin=Russian Federation\", \"locationmode\": \"country names\", \"locations\": [\"Ukraine\", \"Kazakhstan\", \"Germany\", \"Uzbekistan\", \"Belarus\"], \"marker\": {\"color\": \"#FFA15A\", \"size\": [23.66218755031313, 23.117130531148003, 21.841722502367407, 21.80748306801006, 21.390269737076512], \"sizemode\": \"area\", \"sizeref\": 0.06377163744311538}, \"name\": \"Origin=Russian Federation\", \"showlegend\": true, \"text\": [\"Ukraine\", \"Kazakhstan\", \"Germany\", \"Uzbekistan\", \"Belarus\"], \"type\": \"scattergeo\"}, {\"customdata\": [[\"Jordan\", 7388580], [\"Syrian Arab Republic\", 2185692], [\"Lebanon\", 2052147], [\"Libya\", 1064457], [\"Egypt\", 522099]], \"geo\": \"geo\", \"hoverlabel\": {\"namelength\": 0}, \"hovertemplate\": \"<b>%{hovertext}</b><br><br>Origin=State of Palestine<br>plot_tot=%{marker.size}<br>Destination=%{location}<br>Tot Immigrants=%{customdata[1]}\", \"hovertext\": [\"Jordan\", \"Syrian Arab Republic\", \"Lebanon\", \"Libya\", \"Egypt\"], \"legendgroup\": \"Origin=State of Palestine\", \"locationmode\": \"country names\", \"locations\": [\"Jordan\", \"Syrian Arab Republic\", \"Lebanon\", \"Libya\", \"Egypt\"], \"marker\": {\"color\": \"#19d3f3\", \"size\": [22.81686569096127, 21.05965868516508, 20.96870264752795, 20.02168624091828, 18.993963869865762], \"sizemode\": \"area\", \"sizeref\": 0.06377163744311538}, \"name\": \"Origin=State of Palestine\", \"showlegend\": true, \"text\": [\"Jordan\", \"Syrian Arab Republic\", \"Lebanon\", \"Libya\", \"Egypt\"], \"type\": \"scattergeo\"}, {\"customdata\": [[\"Turkey\", 6050496], [\"Lebanon\", 2483868], [\"Saudi Arabia\", 2318276], [\"Jordan\", 1567023], [\"Iraq\", 521451]], \"geo\": \"geo\", \"hoverlabel\": {\"namelength\": 0}, \"hovertemplate\": \"<b>%{hovertext}</b><br><br>Origin=Syrian Arab Republic<br>plot_tot=%{marker.size}<br>Destination=%{location}<br>Tot Immigrants=%{customdata[1]}\", \"hovertext\": [\"Turkey\", \"Lebanon\", \"Saudi Arabia\", \"Jordan\", \"Iraq\"], \"legendgroup\": \"Origin=Syrian Arab Republic\", \"locationmode\": \"country names\", \"locations\": [\"Turkey\", \"Lebanon\", \"Saudi Arabia\", \"Jordan\", \"Iraq\"], \"marker\": {\"color\": \"#FF6692\", \"size\": [22.52862198401044, 21.244157075891643, 21.14462090448981, 20.579594924464867, 18.992172165574345], \"sizemode\": \"area\", \"sizeref\": 0.06377163744311538}, \"name\": \"Origin=Syrian Arab Republic\", \"showlegend\": true, \"text\": [\"Turkey\", \"Lebanon\", \"Saudi Arabia\", \"Jordan\", \"Iraq\"], \"type\": \"scattergeo\"}, {\"customdata\": [[\"Germany\", 5881061], [\"France\", 1109176], [\"United States of America\", 926062], [\"Netherlands\", 801900], [\"Austria\", 680767]], \"geo\": \"geo\", \"hoverlabel\": {\"namelength\": 0}, \"hovertemplate\": \"<b>%{hovertext}</b><br><br>Origin=Turkey<br>plot_tot=%{marker.size}<br>Destination=%{location}<br>Tot Immigrants=%{customdata[1]}\", \"hovertext\": [\"Germany\", \"France\", \"United States of America\", \"Netherlands\", \"Austria\"], \"legendgroup\": \"Origin=Turkey\", \"locationmode\": \"country names\", \"locations\": [\"Germany\", \"France\", \"United States of America\", \"Netherlands\", \"Austria\"], \"marker\": {\"color\": \"#B6E880\", \"size\": [22.487645023935748, 20.081056874572248, 19.82074925982105, 19.61306281273896, 19.376801578895694], \"sizemode\": \"area\", \"sizeref\": 0.06377163744311538}, \"name\": \"Origin=Turkey\", \"showlegend\": true, \"text\": [\"Germany\", \"France\", \"United States of America\", \"Netherlands\", \"Austria\"], \"type\": \"scattergeo\"}, {\"customdata\": [[\"Russian Federation\", 12814442], [\"United States of America\", 1366382], [\"Kazakhstan\", 1285308], [\"Belarus\", 909274], [\"Poland\", 886185]], \"geo\": \"geo\", \"hoverlabel\": {\"namelength\": 0}, \"hovertemplate\": \"<b>%{hovertext}</b><br><br>Origin=Ukraine<br>plot_tot=%{marker.size}<br>Destination=%{location}<br>Tot Immigrants=%{customdata[1]}\", \"hovertext\": [\"Russian Federation\", \"United States of America\", \"Kazakhstan\", \"Belarus\", \"Poland\"], \"legendgroup\": \"Origin=Ukraine\", \"locationmode\": \"country names\", \"locations\": [\"Russian Federation\", \"United States of America\", \"Kazakhstan\", \"Belarus\", \"Poland\"], \"marker\": {\"color\": \"#FF97FF\", \"size\": [23.61126732260226, 20.38192944421241, 20.293682685029907, 19.794355575100134, 19.757248381706663], \"sizemode\": \"area\", \"sizeref\": 0.06377163744311538}, \"name\": \"Origin=Ukraine\", \"showlegend\": true, \"text\": [\"Russian Federation\", \"United States of America\", \"Kazakhstan\", \"Belarus\", \"Poland\"], \"type\": \"scattergeo\"}, {\"customdata\": [[\"Australia\", 4947202], [\"United States of America\", 2889784], [\"Canada\", 2321347], [\"Spain\", 1156417], [\"New Zealand\", 1021036]], \"geo\": \"geo\", \"hoverlabel\": {\"namelength\": 0}, \"hovertemplate\": \"<b>%{hovertext}</b><br><br>Origin=United Kingdom<br>plot_tot=%{marker.size}<br>Destination=%{location}<br>Tot Immigrants=%{customdata[1]}\", \"hovertext\": [\"Australia\", \"United States of America\", \"Canada\", \"Spain\", \"New Zealand\"], \"legendgroup\": \"Origin=United Kingdom\", \"locationmode\": \"country names\", \"locations\": [\"Australia\", \"United States of America\", \"Canada\", \"Spain\", \"New Zealand\"], \"marker\": {\"color\": \"#FECB52\", \"size\": [22.238181376936453, 21.46253023029414, 21.14653076532014, 20.14123029186075, 19.961602303420257], \"sizemode\": \"area\", \"sizeref\": 0.06377163744311538}, \"name\": \"Origin=United Kingdom\", \"showlegend\": true, \"text\": [\"Australia\", \"United States of America\", \"Canada\", \"Spain\", \"New Zealand\"], \"type\": \"scattergeo\"}],\n",
       "                        {\"geo\": {\"center\": {}, \"domain\": {\"x\": [0.0, 0.98], \"y\": [0.0, 1.0]}, \"projection\": {\"type\": \"mollweide\"}}, \"height\": 600, \"legend\": {\"itemsizing\": \"constant\", \"tracegroupgap\": 0}, \"margin\": {\"t\": 60}, \"template\": {\"data\": {\"bar\": [{\"error_x\": {\"color\": \"#2a3f5f\"}, \"error_y\": {\"color\": \"#2a3f5f\"}, \"marker\": {\"line\": {\"color\": \"#E5ECF6\", \"width\": 0.5}}, \"type\": \"bar\"}], \"barpolar\": [{\"marker\": {\"line\": {\"color\": \"#E5ECF6\", \"width\": 0.5}}, \"type\": \"barpolar\"}], \"carpet\": [{\"aaxis\": {\"endlinecolor\": \"#2a3f5f\", \"gridcolor\": \"white\", \"linecolor\": \"white\", \"minorgridcolor\": \"white\", \"startlinecolor\": \"#2a3f5f\"}, \"baxis\": {\"endlinecolor\": \"#2a3f5f\", \"gridcolor\": \"white\", \"linecolor\": \"white\", \"minorgridcolor\": \"white\", \"startlinecolor\": \"#2a3f5f\"}, \"type\": \"carpet\"}], \"choropleth\": [{\"colorbar\": {\"outlinewidth\": 0, \"ticks\": \"\"}, \"type\": \"choropleth\"}], \"contour\": [{\"colorbar\": {\"outlinewidth\": 0, \"ticks\": \"\"}, \"colorscale\": [[0.0, \"#0d0887\"], [0.1111111111111111, \"#46039f\"], [0.2222222222222222, \"#7201a8\"], [0.3333333333333333, \"#9c179e\"], [0.4444444444444444, \"#bd3786\"], [0.5555555555555556, \"#d8576b\"], [0.6666666666666666, \"#ed7953\"], [0.7777777777777778, \"#fb9f3a\"], [0.8888888888888888, \"#fdca26\"], [1.0, \"#f0f921\"]], \"type\": \"contour\"}], \"contourcarpet\": [{\"colorbar\": {\"outlinewidth\": 0, \"ticks\": \"\"}, \"type\": \"contourcarpet\"}], \"heatmap\": [{\"colorbar\": {\"outlinewidth\": 0, \"ticks\": \"\"}, \"colorscale\": [[0.0, \"#0d0887\"], [0.1111111111111111, \"#46039f\"], [0.2222222222222222, \"#7201a8\"], [0.3333333333333333, \"#9c179e\"], [0.4444444444444444, \"#bd3786\"], [0.5555555555555556, \"#d8576b\"], [0.6666666666666666, \"#ed7953\"], [0.7777777777777778, \"#fb9f3a\"], [0.8888888888888888, \"#fdca26\"], [1.0, \"#f0f921\"]], \"type\": \"heatmap\"}], \"heatmapgl\": [{\"colorbar\": {\"outlinewidth\": 0, \"ticks\": \"\"}, \"colorscale\": [[0.0, \"#0d0887\"], [0.1111111111111111, \"#46039f\"], [0.2222222222222222, \"#7201a8\"], [0.3333333333333333, \"#9c179e\"], [0.4444444444444444, \"#bd3786\"], [0.5555555555555556, \"#d8576b\"], [0.6666666666666666, \"#ed7953\"], [0.7777777777777778, \"#fb9f3a\"], [0.8888888888888888, \"#fdca26\"], [1.0, \"#f0f921\"]], \"type\": \"heatmapgl\"}], \"histogram\": [{\"marker\": {\"colorbar\": {\"outlinewidth\": 0, \"ticks\": \"\"}}, \"type\": \"histogram\"}], \"histogram2d\": [{\"colorbar\": {\"outlinewidth\": 0, \"ticks\": \"\"}, \"colorscale\": [[0.0, \"#0d0887\"], [0.1111111111111111, \"#46039f\"], [0.2222222222222222, \"#7201a8\"], [0.3333333333333333, \"#9c179e\"], [0.4444444444444444, \"#bd3786\"], [0.5555555555555556, \"#d8576b\"], [0.6666666666666666, \"#ed7953\"], [0.7777777777777778, \"#fb9f3a\"], [0.8888888888888888, \"#fdca26\"], [1.0, \"#f0f921\"]], \"type\": \"histogram2d\"}], \"histogram2dcontour\": [{\"colorbar\": {\"outlinewidth\": 0, \"ticks\": \"\"}, \"colorscale\": [[0.0, \"#0d0887\"], [0.1111111111111111, \"#46039f\"], [0.2222222222222222, \"#7201a8\"], [0.3333333333333333, \"#9c179e\"], [0.4444444444444444, \"#bd3786\"], [0.5555555555555556, \"#d8576b\"], [0.6666666666666666, \"#ed7953\"], [0.7777777777777778, \"#fb9f3a\"], [0.8888888888888888, \"#fdca26\"], [1.0, \"#f0f921\"]], \"type\": \"histogram2dcontour\"}], \"mesh3d\": [{\"colorbar\": {\"outlinewidth\": 0, \"ticks\": \"\"}, \"type\": \"mesh3d\"}], \"parcoords\": [{\"line\": {\"colorbar\": {\"outlinewidth\": 0, \"ticks\": \"\"}}, \"type\": \"parcoords\"}], \"scatter\": [{\"marker\": {\"colorbar\": {\"outlinewidth\": 0, \"ticks\": \"\"}}, \"type\": \"scatter\"}], \"scatter3d\": [{\"line\": {\"colorbar\": {\"outlinewidth\": 0, \"ticks\": \"\"}}, \"marker\": {\"colorbar\": {\"outlinewidth\": 0, \"ticks\": \"\"}}, \"type\": \"scatter3d\"}], \"scattercarpet\": [{\"marker\": {\"colorbar\": {\"outlinewidth\": 0, \"ticks\": \"\"}}, \"type\": \"scattercarpet\"}], \"scattergeo\": [{\"marker\": {\"colorbar\": {\"outlinewidth\": 0, \"ticks\": \"\"}}, \"type\": \"scattergeo\"}], \"scattergl\": [{\"marker\": {\"colorbar\": {\"outlinewidth\": 0, \"ticks\": \"\"}}, \"type\": \"scattergl\"}], \"scattermapbox\": [{\"marker\": {\"colorbar\": {\"outlinewidth\": 0, \"ticks\": \"\"}}, \"type\": \"scattermapbox\"}], \"scatterpolar\": [{\"marker\": {\"colorbar\": {\"outlinewidth\": 0, \"ticks\": \"\"}}, \"type\": \"scatterpolar\"}], \"scatterpolargl\": [{\"marker\": {\"colorbar\": {\"outlinewidth\": 0, \"ticks\": \"\"}}, \"type\": \"scatterpolargl\"}], \"scatterternary\": [{\"marker\": {\"colorbar\": {\"outlinewidth\": 0, \"ticks\": \"\"}}, \"type\": \"scatterternary\"}], \"surface\": [{\"colorbar\": {\"outlinewidth\": 0, \"ticks\": \"\"}, \"colorscale\": [[0.0, \"#0d0887\"], [0.1111111111111111, \"#46039f\"], [0.2222222222222222, \"#7201a8\"], [0.3333333333333333, \"#9c179e\"], [0.4444444444444444, \"#bd3786\"], [0.5555555555555556, \"#d8576b\"], [0.6666666666666666, \"#ed7953\"], [0.7777777777777778, \"#fb9f3a\"], [0.8888888888888888, \"#fdca26\"], [1.0, \"#f0f921\"]], \"type\": \"surface\"}], \"table\": [{\"cells\": {\"fill\": {\"color\": \"#EBF0F8\"}, \"line\": {\"color\": \"white\"}}, \"header\": {\"fill\": {\"color\": \"#C8D4E3\"}, \"line\": {\"color\": \"white\"}}, \"type\": \"table\"}]}, \"layout\": {\"annotationdefaults\": {\"arrowcolor\": \"#2a3f5f\", \"arrowhead\": 0, \"arrowwidth\": 1}, \"colorscale\": {\"diverging\": [[0, \"#8e0152\"], [0.1, \"#c51b7d\"], [0.2, \"#de77ae\"], [0.3, \"#f1b6da\"], [0.4, \"#fde0ef\"], [0.5, \"#f7f7f7\"], [0.6, \"#e6f5d0\"], [0.7, \"#b8e186\"], [0.8, \"#7fbc41\"], [0.9, \"#4d9221\"], [1, \"#276419\"]], \"sequential\": [[0.0, \"#0d0887\"], [0.1111111111111111, \"#46039f\"], [0.2222222222222222, \"#7201a8\"], [0.3333333333333333, \"#9c179e\"], [0.4444444444444444, \"#bd3786\"], [0.5555555555555556, \"#d8576b\"], [0.6666666666666666, \"#ed7953\"], [0.7777777777777778, \"#fb9f3a\"], [0.8888888888888888, \"#fdca26\"], [1.0, \"#f0f921\"]], \"sequentialminus\": [[0.0, \"#0d0887\"], [0.1111111111111111, \"#46039f\"], [0.2222222222222222, \"#7201a8\"], [0.3333333333333333, \"#9c179e\"], [0.4444444444444444, \"#bd3786\"], [0.5555555555555556, \"#d8576b\"], [0.6666666666666666, \"#ed7953\"], [0.7777777777777778, \"#fb9f3a\"], [0.8888888888888888, \"#fdca26\"], [1.0, \"#f0f921\"]]}, \"colorway\": [\"#636efa\", \"#EF553B\", \"#00cc96\", \"#ab63fa\", \"#FFA15A\", \"#19d3f3\", \"#FF6692\", \"#B6E880\", \"#FF97FF\", \"#FECB52\"], \"font\": {\"color\": \"#2a3f5f\"}, \"geo\": {\"bgcolor\": \"white\", \"lakecolor\": \"white\", \"landcolor\": \"#E5ECF6\", \"showlakes\": true, \"showland\": true, \"subunitcolor\": \"white\"}, \"hoverlabel\": {\"align\": \"left\"}, \"hovermode\": \"closest\", \"mapbox\": {\"style\": \"light\"}, \"paper_bgcolor\": \"white\", \"plot_bgcolor\": \"#E5ECF6\", \"polar\": {\"angularaxis\": {\"gridcolor\": \"white\", \"linecolor\": \"white\", \"ticks\": \"\"}, \"bgcolor\": \"#E5ECF6\", \"radialaxis\": {\"gridcolor\": \"white\", \"linecolor\": \"white\", \"ticks\": \"\"}}, \"scene\": {\"xaxis\": {\"backgroundcolor\": \"#E5ECF6\", \"gridcolor\": \"white\", \"gridwidth\": 2, \"linecolor\": \"white\", \"showbackground\": true, \"ticks\": \"\", \"zerolinecolor\": \"white\"}, \"yaxis\": {\"backgroundcolor\": \"#E5ECF6\", \"gridcolor\": \"white\", \"gridwidth\": 2, \"linecolor\": \"white\", \"showbackground\": true, \"ticks\": \"\", \"zerolinecolor\": \"white\"}, \"zaxis\": {\"backgroundcolor\": \"#E5ECF6\", \"gridcolor\": \"white\", \"gridwidth\": 2, \"linecolor\": \"white\", \"showbackground\": true, \"ticks\": \"\", \"zerolinecolor\": \"white\"}}, \"shapedefaults\": {\"line\": {\"color\": \"#2a3f5f\"}}, \"ternary\": {\"aaxis\": {\"gridcolor\": \"white\", \"linecolor\": \"white\", \"ticks\": \"\"}, \"baxis\": {\"gridcolor\": \"white\", \"linecolor\": \"white\", \"ticks\": \"\"}, \"bgcolor\": \"#E5ECF6\", \"caxis\": {\"gridcolor\": \"white\", \"linecolor\": \"white\", \"ticks\": \"\"}}, \"title\": {\"x\": 0.05}, \"xaxis\": {\"automargin\": true, \"gridcolor\": \"white\", \"linecolor\": \"white\", \"ticks\": \"\", \"zerolinecolor\": \"white\", \"zerolinewidth\": 2}, \"yaxis\": {\"automargin\": true, \"gridcolor\": \"white\", \"linecolor\": \"white\", \"ticks\": \"\", \"zerolinecolor\": \"white\", \"zerolinewidth\": 2}}}},\n",
       "                        {\"responsive\": true}\n",
       "                    ).then(function(){\n",
       "                            \n",
       "var gd = document.getElementById('a0380976-c470-434a-a63d-ff0f61b8a534');\n",
       "var x = new MutationObserver(function (mutations, observer) {{\n",
       "        var display = window.getComputedStyle(gd).display;\n",
       "        if (!display || display === 'none') {{\n",
       "            console.log([gd, 'removed!']);\n",
       "            Plotly.purge(gd);\n",
       "            observer.disconnect();\n",
       "        }}\n",
       "}});\n",
       "\n",
       "// Listen for the removal of the full notebook cells\n",
       "var notebookContainer = gd.closest('#notebook-container');\n",
       "if (notebookContainer) {{\n",
       "    x.observe(notebookContainer, {childList: true});\n",
       "}}\n",
       "\n",
       "// Listen for the clearing of the current output cell\n",
       "var outputEl = gd.closest('.output');\n",
       "if (outputEl) {{\n",
       "    x.observe(outputEl, {childList: true});\n",
       "}}\n",
       "\n",
       "                        })\n",
       "                };\n",
       "                });\n",
       "            </script>\n",
       "        </div>"
      ]
     },
     "metadata": {},
     "output_type": "display_data"
    }
   ],
   "source": [
    "fig = px.scatter_geo(plot_data_df, locations=\"Destination\", color=\"Origin\",\n",
    "                     hover_name=\"Destination\", size=\"plot_tot\", locationmode='country names',\n",
    "                     hover_data=[\"Destination\", \"Tot Immigrants\"], text=\"Destination\",\n",
    "                     projection='mollweide')\n",
    "#animation_frame=\"year\",\n",
    "fig.show()"
   ]
  },
  {
   "cell_type": "code",
   "execution_count": null,
   "metadata": {},
   "outputs": [],
   "source": []
  },
  {
   "cell_type": "code",
   "execution_count": null,
   "metadata": {},
   "outputs": [],
   "source": []
  }
 ],
 "metadata": {
  "kernelspec": {
   "display_name": "Python 3",
   "language": "python",
   "name": "python3"
  },
  "language_info": {
   "codemirror_mode": {
    "name": "ipython",
    "version": 3
   },
   "file_extension": ".py",
   "mimetype": "text/x-python",
   "name": "python",
   "nbconvert_exporter": "python",
   "pygments_lexer": "ipython3",
   "version": "3.7.3"
  }
 },
 "nbformat": 4,
 "nbformat_minor": 2
}
