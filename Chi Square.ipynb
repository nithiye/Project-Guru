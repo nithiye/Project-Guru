{
 "cells": [
  {
   "cell_type": "code",
   "execution_count": 1,
   "metadata": {},
   "outputs": [],
   "source": [
    "# Dependencies and Setup\n",
    "import matplotlib.pyplot as plt\n",
    "import pandas as pd\n",
    "import scipy.stats as stats"
   ]
  },
  {
   "cell_type": "code",
   "execution_count": 2,
   "metadata": {},
   "outputs": [],
   "source": [
    "# Read file with Net Migration numbers with origin and destination\n",
    "Total_countries_GDP= pd.read_csv(\"Output/Data_for_plotting.csv\")\n",
    "\n",
    "# Add totals to indicator and migrants\n",
    "Total_countries_GDP[\"total_migrants\"]= Total_countries_GDP.iloc[:,3:7].sum(axis=1)\n",
    "Total_countries_GDP[\"total_economy\"] = Total_countries_GDP.iloc[:,8:12].sum(axis=1)"
   ]
  },
  {
   "cell_type": "code",
   "execution_count": 3,
   "metadata": {},
   "outputs": [
    {
     "data": {
      "text/html": [
       "<div>\n",
       "<style scoped>\n",
       "    .dataframe tbody tr th:only-of-type {\n",
       "        vertical-align: middle;\n",
       "    }\n",
       "\n",
       "    .dataframe tbody tr th {\n",
       "        vertical-align: top;\n",
       "    }\n",
       "\n",
       "    .dataframe thead th {\n",
       "        text-align: right;\n",
       "    }\n",
       "</style>\n",
       "<table border=\"1\" class=\"dataframe\">\n",
       "  <thead>\n",
       "    <tr style=\"text-align: right;\">\n",
       "      <th></th>\n",
       "      <th>total_economy</th>\n",
       "    </tr>\n",
       "    <tr>\n",
       "      <th>Income Range</th>\n",
       "      <th></th>\n",
       "    </tr>\n",
       "  </thead>\n",
       "  <tbody>\n",
       "    <tr>\n",
       "      <th>High-income</th>\n",
       "      <td>155.026201</td>\n",
       "    </tr>\n",
       "    <tr>\n",
       "      <th>Lower-middle-income</th>\n",
       "      <td>559.709740</td>\n",
       "    </tr>\n",
       "    <tr>\n",
       "      <th>Upper-middle-income</th>\n",
       "      <td>232.995131</td>\n",
       "    </tr>\n",
       "  </tbody>\n",
       "</table>\n",
       "</div>"
      ],
      "text/plain": [
       "                     total_economy\n",
       "Income Range                      \n",
       "High-income             155.026201\n",
       "Lower-middle-income     559.709740\n",
       "Upper-middle-income     232.995131"
      ]
     },
     "execution_count": 3,
     "metadata": {},
     "output_type": "execute_result"
    }
   ],
   "source": [
    "# Creating a matrix for Chi Sqaure test with remittances and level of income as category\n",
    "Total_2 = Total_countries_GDP.loc[Total_countries_GDP[\"Indicator\"] == \"Personal remittances, received (current US$)\"].\\\n",
    "                                   groupby(\"Income Range\")[\"total_economy\"].sum()\n",
    "Development = pd.DataFrame(Total_2)\n",
    "Development"
   ]
  },
  {
   "cell_type": "code",
   "execution_count": 4,
   "metadata": {},
   "outputs": [
    {
     "data": {
      "text/html": [
       "<div>\n",
       "<style scoped>\n",
       "    .dataframe tbody tr th:only-of-type {\n",
       "        vertical-align: middle;\n",
       "    }\n",
       "\n",
       "    .dataframe tbody tr th {\n",
       "        vertical-align: top;\n",
       "    }\n",
       "\n",
       "    .dataframe thead th {\n",
       "        text-align: right;\n",
       "    }\n",
       "</style>\n",
       "<table border=\"1\" class=\"dataframe\">\n",
       "  <thead>\n",
       "    <tr style=\"text-align: right;\">\n",
       "      <th></th>\n",
       "      <th>total_economy</th>\n",
       "      <th>Avg</th>\n",
       "    </tr>\n",
       "    <tr>\n",
       "      <th>Income Range</th>\n",
       "      <th></th>\n",
       "      <th></th>\n",
       "    </tr>\n",
       "  </thead>\n",
       "  <tbody>\n",
       "    <tr>\n",
       "      <th>High-income</th>\n",
       "      <td>155.026201</td>\n",
       "      <td>315.910357</td>\n",
       "    </tr>\n",
       "    <tr>\n",
       "      <th>Lower-middle-income</th>\n",
       "      <td>559.709740</td>\n",
       "      <td>315.910357</td>\n",
       "    </tr>\n",
       "    <tr>\n",
       "      <th>Upper-middle-income</th>\n",
       "      <td>232.995131</td>\n",
       "      <td>315.910357</td>\n",
       "    </tr>\n",
       "  </tbody>\n",
       "</table>\n",
       "</div>"
      ],
      "text/plain": [
       "                     total_economy         Avg\n",
       "Income Range                                  \n",
       "High-income             155.026201  315.910357\n",
       "Lower-middle-income     559.709740  315.910357\n",
       "Upper-middle-income     232.995131  315.910357"
      ]
     },
     "execution_count": 4,
     "metadata": {},
     "output_type": "execute_result"
    }
   ],
   "source": [
    "# adding column for the null hypothesis\n",
    "Development[\"Avg\"] = Development[\"total_economy\"].mean()\n",
    "Development"
   ]
  },
  {
   "cell_type": "code",
   "execution_count": 5,
   "metadata": {},
   "outputs": [],
   "source": [
    "# Running Chi Sqaure test\n",
    "\n",
    "# With four rows, the degree of freedom is 4-1 = 3\n",
    "# With a p-value of 0.05, the confidence level is 1.00-0.05 = 0.95\n",
    "critical_value = stats.chi2.ppf(q = 0.95, df = 3)"
   ]
  },
  {
   "cell_type": "code",
   "execution_count": 6,
   "metadata": {
    "scrolled": true
   },
   "outputs": [
    {
     "data": {
      "text/plain": [
       "7.814727903251179"
      ]
     },
     "execution_count": 6,
     "metadata": {},
     "output_type": "execute_result"
    }
   ],
   "source": [
    "critical_value"
   ]
  },
  {
   "cell_type": "code",
   "execution_count": 7,
   "metadata": {},
   "outputs": [
    {
     "data": {
      "text/plain": [
       "Power_divergenceResult(statistic=291.8447694773442, pvalue=4.2336360619936334e-64)"
      ]
     },
     "execution_count": 7,
     "metadata": {},
     "output_type": "execute_result"
    }
   ],
   "source": [
    "stats.chisquare(Development['total_economy'], Development['Avg'])"
   ]
  },
  {
   "cell_type": "code",
   "execution_count": null,
   "metadata": {},
   "outputs": [],
   "source": []
  }
 ],
 "metadata": {
  "kernelspec": {
   "display_name": "Python 3",
   "language": "python",
   "name": "python3"
  },
  "language_info": {
   "codemirror_mode": {
    "name": "ipython",
    "version": 3
   },
   "file_extension": ".py",
   "mimetype": "text/x-python",
   "name": "python",
   "nbconvert_exporter": "python",
   "pygments_lexer": "ipython3",
   "version": "3.7.3"
  }
 },
 "nbformat": 4,
 "nbformat_minor": 2
}
