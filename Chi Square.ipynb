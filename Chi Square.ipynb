{
 "cells": [
  {
   "cell_type": "code",
   "execution_count": 1,
   "metadata": {},
   "outputs": [],
   "source": [
    "%matplotlib notebook"
   ]
  },
  {
   "cell_type": "code",
   "execution_count": 2,
   "metadata": {},
   "outputs": [],
   "source": [
    "# Dependencies and Setup\n",
    "import matplotlib.pyplot as plt\n",
    "import pandas as pd\n",
    "import numpy as np\n",
    "from matplotlib.ticker import (MultipleLocator, FormatStrFormatter, AutoMinorLocator)\n",
    "import scipy.stats as stats"
   ]
  },
  {
   "cell_type": "code",
   "execution_count": 22,
   "metadata": {},
   "outputs": [],
   "source": [
    "# Read file with Net Migration numbers with origin and destination\n",
    "Total_countries_GDP= pd.read_csv(\"../Output/Data_for_plotting.csv\")\n",
    "#Total_countries_GDP = Total_countries_GDP.set_index(\"Origin\")\n",
    "#Total_countries_GDP = Total_countries_GDP.drop(\"Syrian Arab Republic\", axis=0)\n",
    "#Total_countries_GDP.head()"
   ]
  },
  {
   "cell_type": "code",
   "execution_count": 23,
   "metadata": {},
   "outputs": [
    {
     "data": {
      "text/html": [
       "<div>\n",
       "<style scoped>\n",
       "    .dataframe tbody tr th:only-of-type {\n",
       "        vertical-align: middle;\n",
       "    }\n",
       "\n",
       "    .dataframe tbody tr th {\n",
       "        vertical-align: top;\n",
       "    }\n",
       "\n",
       "    .dataframe thead th {\n",
       "        text-align: right;\n",
       "    }\n",
       "</style>\n",
       "<table border=\"1\" class=\"dataframe\">\n",
       "  <thead>\n",
       "    <tr style=\"text-align: right;\">\n",
       "      <th></th>\n",
       "      <th>Origin</th>\n",
       "      <th>Dev Level</th>\n",
       "      <th>Income Range</th>\n",
       "      <th>2005_x</th>\n",
       "      <th>2010_x</th>\n",
       "      <th>2015_x</th>\n",
       "      <th>2017_x</th>\n",
       "      <th>Indicator</th>\n",
       "      <th>2005_y</th>\n",
       "      <th>2010_y</th>\n",
       "      <th>2015_y</th>\n",
       "      <th>2017_y</th>\n",
       "      <th>total_migrants</th>\n",
       "      <th>total_economy</th>\n",
       "    </tr>\n",
       "  </thead>\n",
       "  <tbody>\n",
       "    <tr>\n",
       "      <th>0</th>\n",
       "      <td>Afghanistan</td>\n",
       "      <td>Least developed</td>\n",
       "      <td>Low-income</td>\n",
       "      <td>3826255</td>\n",
       "      <td>4989209</td>\n",
       "      <td>4855376</td>\n",
       "      <td>4826464</td>\n",
       "      <td>Personal remittances, received (current US$)</td>\n",
       "      <td>0.000000e+00</td>\n",
       "      <td>3.462515e+08</td>\n",
       "      <td>3.486247e+08</td>\n",
       "      <td>7.343102e+08</td>\n",
       "      <td>18497304</td>\n",
       "      <td>1.429186e+09</td>\n",
       "    </tr>\n",
       "    <tr>\n",
       "      <th>1</th>\n",
       "      <td>Afghanistan</td>\n",
       "      <td>Least developed</td>\n",
       "      <td>Low-income</td>\n",
       "      <td>3826255</td>\n",
       "      <td>4989209</td>\n",
       "      <td>4855376</td>\n",
       "      <td>4826464</td>\n",
       "      <td>GDP (current US$)</td>\n",
       "      <td>6.209140e+09</td>\n",
       "      <td>1.585657e+10</td>\n",
       "      <td>1.990711e+10</td>\n",
       "      <td>2.019176e+10</td>\n",
       "      <td>18497304</td>\n",
       "      <td>6.216459e+10</td>\n",
       "    </tr>\n",
       "    <tr>\n",
       "      <th>2</th>\n",
       "      <td>Bangladesh</td>\n",
       "      <td>Least developed</td>\n",
       "      <td>Lower-middle-income</td>\n",
       "      <td>5765158</td>\n",
       "      <td>6742845</td>\n",
       "      <td>7246726</td>\n",
       "      <td>7499919</td>\n",
       "      <td>Personal remittances, received (current US$)</td>\n",
       "      <td>4.642385e+09</td>\n",
       "      <td>1.085021e+10</td>\n",
       "      <td>1.529554e+10</td>\n",
       "      <td>1.349823e+10</td>\n",
       "      <td>27254648</td>\n",
       "      <td>4.428637e+10</td>\n",
       "    </tr>\n",
       "    <tr>\n",
       "      <th>3</th>\n",
       "      <td>Bangladesh</td>\n",
       "      <td>Least developed</td>\n",
       "      <td>Lower-middle-income</td>\n",
       "      <td>5765158</td>\n",
       "      <td>6742845</td>\n",
       "      <td>7246726</td>\n",
       "      <td>7499919</td>\n",
       "      <td>GDP (current US$)</td>\n",
       "      <td>6.944294e+10</td>\n",
       "      <td>1.150000e+11</td>\n",
       "      <td>1.950000e+11</td>\n",
       "      <td>2.500000e+11</td>\n",
       "      <td>27254648</td>\n",
       "      <td>6.294429e+11</td>\n",
       "    </tr>\n",
       "    <tr>\n",
       "      <th>4</th>\n",
       "      <td>China</td>\n",
       "      <td>Less Developed</td>\n",
       "      <td>Upper-middle-income</td>\n",
       "      <td>7242306</td>\n",
       "      <td>8648435</td>\n",
       "      <td>9674720</td>\n",
       "      <td>9961559</td>\n",
       "      <td>Personal remittances, received (current US$)</td>\n",
       "      <td>3.337062e+09</td>\n",
       "      <td>1.363604e+10</td>\n",
       "      <td>4.444530e+10</td>\n",
       "      <td>2.867598e+10</td>\n",
       "      <td>35527020</td>\n",
       "      <td>9.009438e+10</td>\n",
       "    </tr>\n",
       "  </tbody>\n",
       "</table>\n",
       "</div>"
      ],
      "text/plain": [
       "        Origin        Dev Level         Income Range   2005_x   2010_x  \\\n",
       "0  Afghanistan  Least developed           Low-income  3826255  4989209   \n",
       "1  Afghanistan  Least developed           Low-income  3826255  4989209   \n",
       "2   Bangladesh  Least developed  Lower-middle-income  5765158  6742845   \n",
       "3   Bangladesh  Least developed  Lower-middle-income  5765158  6742845   \n",
       "4        China   Less Developed  Upper-middle-income  7242306  8648435   \n",
       "\n",
       "    2015_x   2017_x                                     Indicator  \\\n",
       "0  4855376  4826464  Personal remittances, received (current US$)   \n",
       "1  4855376  4826464                             GDP (current US$)   \n",
       "2  7246726  7499919  Personal remittances, received (current US$)   \n",
       "3  7246726  7499919                             GDP (current US$)   \n",
       "4  9674720  9961559  Personal remittances, received (current US$)   \n",
       "\n",
       "         2005_y        2010_y        2015_y        2017_y  total_migrants  \\\n",
       "0  0.000000e+00  3.462515e+08  3.486247e+08  7.343102e+08        18497304   \n",
       "1  6.209140e+09  1.585657e+10  1.990711e+10  2.019176e+10        18497304   \n",
       "2  4.642385e+09  1.085021e+10  1.529554e+10  1.349823e+10        27254648   \n",
       "3  6.944294e+10  1.150000e+11  1.950000e+11  2.500000e+11        27254648   \n",
       "4  3.337062e+09  1.363604e+10  4.444530e+10  2.867598e+10        35527020   \n",
       "\n",
       "   total_economy  \n",
       "0   1.429186e+09  \n",
       "1   6.216459e+10  \n",
       "2   4.428637e+10  \n",
       "3   6.294429e+11  \n",
       "4   9.009438e+10  "
      ]
     },
     "execution_count": 23,
     "metadata": {},
     "output_type": "execute_result"
    }
   ],
   "source": [
    "Total_countries_GDP[\"total_migrants\"]= Total_countries_GDP.iloc[:,3:7].sum(axis=1)\n",
    "Total_countries_GDP[\"total_economy\"] = Total_countries_GDP.iloc[:,8:12].sum(axis=1)\n",
    "Total_countries_GDP.head()"
   ]
  },
  {
   "cell_type": "code",
   "execution_count": 42,
   "metadata": {},
   "outputs": [
    {
     "data": {
      "text/html": [
       "<div>\n",
       "<style scoped>\n",
       "    .dataframe tbody tr th:only-of-type {\n",
       "        vertical-align: middle;\n",
       "    }\n",
       "\n",
       "    .dataframe tbody tr th {\n",
       "        vertical-align: top;\n",
       "    }\n",
       "\n",
       "    .dataframe thead th {\n",
       "        text-align: right;\n",
       "    }\n",
       "</style>\n",
       "<table border=\"1\" class=\"dataframe\">\n",
       "  <thead>\n",
       "    <tr style=\"text-align: right;\">\n",
       "      <th></th>\n",
       "      <th>total_economy</th>\n",
       "    </tr>\n",
       "    <tr>\n",
       "      <th>Income Range</th>\n",
       "      <th></th>\n",
       "    </tr>\n",
       "  </thead>\n",
       "  <tbody>\n",
       "    <tr>\n",
       "      <th>High-income</th>\n",
       "      <td>1.314222e+11</td>\n",
       "    </tr>\n",
       "    <tr>\n",
       "      <th>Low-income</th>\n",
       "      <td>1.429186e+09</td>\n",
       "    </tr>\n",
       "    <tr>\n",
       "      <th>Lower-middle-income</th>\n",
       "      <td>4.748546e+11</td>\n",
       "    </tr>\n",
       "    <tr>\n",
       "      <th>Upper-middle-income</th>\n",
       "      <td>2.329951e+11</td>\n",
       "    </tr>\n",
       "  </tbody>\n",
       "</table>\n",
       "</div>"
      ],
      "text/plain": [
       "                     total_economy\n",
       "Income Range                      \n",
       "High-income           1.314222e+11\n",
       "Low-income            1.429186e+09\n",
       "Lower-middle-income   4.748546e+11\n",
       "Upper-middle-income   2.329951e+11"
      ]
     },
     "execution_count": 42,
     "metadata": {},
     "output_type": "execute_result"
    }
   ],
   "source": [
    "Total_2 = Total_countries_GDP.loc[Total_countries_GDP[\"Indicator\"] == \"Personal remittances, received (current US$)\"].\\\n",
    "                                   groupby(\"Income Range\")[\"total_economy\"].sum()\n",
    "Development = pd.DataFrame(Total_2)\n",
    "Development"
   ]
  },
  {
   "cell_type": "code",
   "execution_count": 44,
   "metadata": {},
   "outputs": [
    {
     "data": {
      "text/html": [
       "<div>\n",
       "<style scoped>\n",
       "    .dataframe tbody tr th:only-of-type {\n",
       "        vertical-align: middle;\n",
       "    }\n",
       "\n",
       "    .dataframe tbody tr th {\n",
       "        vertical-align: top;\n",
       "    }\n",
       "\n",
       "    .dataframe thead th {\n",
       "        text-align: right;\n",
       "    }\n",
       "</style>\n",
       "<table border=\"1\" class=\"dataframe\">\n",
       "  <thead>\n",
       "    <tr style=\"text-align: right;\">\n",
       "      <th></th>\n",
       "      <th>total_economy</th>\n",
       "      <th>Avg</th>\n",
       "    </tr>\n",
       "    <tr>\n",
       "      <th>Income Range</th>\n",
       "      <th></th>\n",
       "      <th></th>\n",
       "    </tr>\n",
       "  </thead>\n",
       "  <tbody>\n",
       "    <tr>\n",
       "      <th>High-income</th>\n",
       "      <td>1.314222e+11</td>\n",
       "      <td>2.101753e+11</td>\n",
       "    </tr>\n",
       "    <tr>\n",
       "      <th>Low-income</th>\n",
       "      <td>1.429186e+09</td>\n",
       "      <td>2.101753e+11</td>\n",
       "    </tr>\n",
       "    <tr>\n",
       "      <th>Lower-middle-income</th>\n",
       "      <td>4.748546e+11</td>\n",
       "      <td>2.101753e+11</td>\n",
       "    </tr>\n",
       "    <tr>\n",
       "      <th>Upper-middle-income</th>\n",
       "      <td>2.329951e+11</td>\n",
       "      <td>2.101753e+11</td>\n",
       "    </tr>\n",
       "  </tbody>\n",
       "</table>\n",
       "</div>"
      ],
      "text/plain": [
       "                     total_economy           Avg\n",
       "Income Range                                    \n",
       "High-income           1.314222e+11  2.101753e+11\n",
       "Low-income            1.429186e+09  2.101753e+11\n",
       "Lower-middle-income   4.748546e+11  2.101753e+11\n",
       "Upper-middle-income   2.329951e+11  2.101753e+11"
      ]
     },
     "execution_count": 44,
     "metadata": {},
     "output_type": "execute_result"
    }
   ],
   "source": [
    "Development[\"Avg\"] = Development[\"total_economy\"].mean()\n",
    "Development"
   ]
  },
  {
   "cell_type": "code",
   "execution_count": 60,
   "metadata": {},
   "outputs": [],
   "source": [
    "# With four rows, the degree of freedom is 4-1 = 3\n",
    "# With a p-value of 0.05, the confidence level is 1.00-0.05 = 0.95\n",
    "critical_value = stats.chi2.ppf(q = 0.95, df = 3)"
   ]
  },
  {
   "cell_type": "code",
   "execution_count": 61,
   "metadata": {
    "scrolled": true
   },
   "outputs": [
    {
     "data": {
      "text/plain": [
       "7.814727903251179"
      ]
     },
     "execution_count": 61,
     "metadata": {},
     "output_type": "execute_result"
    }
   ],
   "source": [
    "critical_value"
   ]
  },
  {
   "cell_type": "code",
   "execution_count": 62,
   "metadata": {},
   "outputs": [
    {
     "data": {
      "text/plain": [
       "Power_divergenceResult(statistic=572630987899.6248, pvalue=0.0)"
      ]
     },
     "execution_count": 62,
     "metadata": {},
     "output_type": "execute_result"
    }
   ],
   "source": [
    "stats.chisquare(Development['total_economy'], Development['Avg'])"
   ]
  },
  {
   "cell_type": "code",
   "execution_count": null,
   "metadata": {},
   "outputs": [],
   "source": []
  }
 ],
 "metadata": {
  "kernelspec": {
   "display_name": "Python 3",
   "language": "python",
   "name": "python3"
  },
  "language_info": {
   "codemirror_mode": {
    "name": "ipython",
    "version": 3
   },
   "file_extension": ".py",
   "mimetype": "text/x-python",
   "name": "python",
   "nbconvert_exporter": "python",
   "pygments_lexer": "ipython3",
   "version": "3.7.3"
  }
 },
 "nbformat": 4,
 "nbformat_minor": 2
}
