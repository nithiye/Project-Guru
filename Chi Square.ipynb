{
 "cells": [
  {
   "cell_type": "code",
   "execution_count": 1,
   "metadata": {},
   "outputs": [],
   "source": [
    "%matplotlib notebook"
   ]
  },
  {
   "cell_type": "code",
   "execution_count": 2,
   "metadata": {},
   "outputs": [],
   "source": [
    "# Dependencies and Setup\n",
    "import matplotlib.pyplot as plt\n",
    "import pandas as pd\n",
    "import numpy as np\n",
    "from matplotlib.ticker import (MultipleLocator, FormatStrFormatter, AutoMinorLocator)\n",
    "import scipy.stats as stats"
   ]
  },
  {
   "cell_type": "code",
   "execution_count": 3,
   "metadata": {},
   "outputs": [],
   "source": [
    "# Read file with Net Migration numbers with origin and destination\n",
    "Total_countries_GDP= pd.read_csv(\"Output/Data_for_plotting.csv\")\n",
    "#Total_countries_GDP = Total_countries_GDP.set_index(\"Origin\")\n",
    "#Total_countries_GDP = Total_countries_GDP.drop(\"Syrian Arab Republic\", axis=0)\n",
    "#Total_countries_GDP.head()"
   ]
  },
  {
   "cell_type": "code",
   "execution_count": 4,
   "metadata": {},
   "outputs": [
    {
     "data": {
      "text/html": [
       "<div>\n",
       "<style scoped>\n",
       "    .dataframe tbody tr th:only-of-type {\n",
       "        vertical-align: middle;\n",
       "    }\n",
       "\n",
       "    .dataframe tbody tr th {\n",
       "        vertical-align: top;\n",
       "    }\n",
       "\n",
       "    .dataframe thead th {\n",
       "        text-align: right;\n",
       "    }\n",
       "</style>\n",
       "<table border=\"1\" class=\"dataframe\">\n",
       "  <thead>\n",
       "    <tr style=\"text-align: right;\">\n",
       "      <th></th>\n",
       "      <th>Origin</th>\n",
       "      <th>Dev Level</th>\n",
       "      <th>Income Range</th>\n",
       "      <th>2005</th>\n",
       "      <th>2010</th>\n",
       "      <th>2015</th>\n",
       "      <th>2017</th>\n",
       "      <th>Indicator</th>\n",
       "      <th>2005.1</th>\n",
       "      <th>2010.1</th>\n",
       "      <th>2015.1</th>\n",
       "      <th>2017.1</th>\n",
       "      <th>total_migrants</th>\n",
       "      <th>total_economy</th>\n",
       "    </tr>\n",
       "  </thead>\n",
       "  <tbody>\n",
       "    <tr>\n",
       "      <th>0</th>\n",
       "      <td>India</td>\n",
       "      <td>Less Developed</td>\n",
       "      <td>Lower-middle-income</td>\n",
       "      <td>9649626</td>\n",
       "      <td>13320745</td>\n",
       "      <td>15859419</td>\n",
       "      <td>16587070</td>\n",
       "      <td>Personal remittances, received (% of GDP)</td>\n",
       "      <td>2.696926</td>\n",
       "      <td>3.191661</td>\n",
       "      <td>3.275817</td>\n",
       "      <td>2.600032</td>\n",
       "      <td>55416860</td>\n",
       "      <td>11.764436</td>\n",
       "    </tr>\n",
       "    <tr>\n",
       "      <th>1</th>\n",
       "      <td>India</td>\n",
       "      <td>Less Developed</td>\n",
       "      <td>Lower-middle-income</td>\n",
       "      <td>9649626</td>\n",
       "      <td>13320745</td>\n",
       "      <td>15859419</td>\n",
       "      <td>16587070</td>\n",
       "      <td>Personal remittances, received (current US$)</td>\n",
       "      <td>22.125089</td>\n",
       "      <td>53.479960</td>\n",
       "      <td>68.909693</td>\n",
       "      <td>68.967175</td>\n",
       "      <td>55416860</td>\n",
       "      <td>213.481918</td>\n",
       "    </tr>\n",
       "    <tr>\n",
       "      <th>2</th>\n",
       "      <td>India</td>\n",
       "      <td>Less Developed</td>\n",
       "      <td>Lower-middle-income</td>\n",
       "      <td>9649626</td>\n",
       "      <td>13320745</td>\n",
       "      <td>15859419</td>\n",
       "      <td>16587070</td>\n",
       "      <td>GDP growth (annual %)</td>\n",
       "      <td>7.923429</td>\n",
       "      <td>8.497587</td>\n",
       "      <td>7.996254</td>\n",
       "      <td>7.167889</td>\n",
       "      <td>55416860</td>\n",
       "      <td>31.585158</td>\n",
       "    </tr>\n",
       "    <tr>\n",
       "      <th>3</th>\n",
       "      <td>India</td>\n",
       "      <td>Less Developed</td>\n",
       "      <td>Lower-middle-income</td>\n",
       "      <td>9649626</td>\n",
       "      <td>13320745</td>\n",
       "      <td>15859419</td>\n",
       "      <td>16587070</td>\n",
       "      <td>GDP (current US$)</td>\n",
       "      <td>820.000000</td>\n",
       "      <td>1680.000000</td>\n",
       "      <td>2100.000000</td>\n",
       "      <td>2650.000000</td>\n",
       "      <td>55416860</td>\n",
       "      <td>7250.000000</td>\n",
       "    </tr>\n",
       "    <tr>\n",
       "      <th>4</th>\n",
       "      <td>Mexico</td>\n",
       "      <td>Less Developed</td>\n",
       "      <td>Upper-middle-income</td>\n",
       "      <td>10816544</td>\n",
       "      <td>12413073</td>\n",
       "      <td>12546524</td>\n",
       "      <td>12964869</td>\n",
       "      <td>Personal remittances, received (% of GDP)</td>\n",
       "      <td>2.591733</td>\n",
       "      <td>2.087373</td>\n",
       "      <td>2.241070</td>\n",
       "      <td>2.786574</td>\n",
       "      <td>48741010</td>\n",
       "      <td>9.706750</td>\n",
       "    </tr>\n",
       "  </tbody>\n",
       "</table>\n",
       "</div>"
      ],
      "text/plain": [
       "   Origin       Dev Level         Income Range      2005      2010      2015  \\\n",
       "0   India  Less Developed  Lower-middle-income   9649626  13320745  15859419   \n",
       "1   India  Less Developed  Lower-middle-income   9649626  13320745  15859419   \n",
       "2   India  Less Developed  Lower-middle-income   9649626  13320745  15859419   \n",
       "3   India  Less Developed  Lower-middle-income   9649626  13320745  15859419   \n",
       "4  Mexico  Less Developed  Upper-middle-income  10816544  12413073  12546524   \n",
       "\n",
       "       2017                                     Indicator      2005.1  \\\n",
       "0  16587070     Personal remittances, received (% of GDP)    2.696926   \n",
       "1  16587070  Personal remittances, received (current US$)   22.125089   \n",
       "2  16587070                         GDP growth (annual %)    7.923429   \n",
       "3  16587070                             GDP (current US$)  820.000000   \n",
       "4  12964869     Personal remittances, received (% of GDP)    2.591733   \n",
       "\n",
       "        2010.1       2015.1       2017.1  total_migrants  total_economy  \n",
       "0     3.191661     3.275817     2.600032        55416860      11.764436  \n",
       "1    53.479960    68.909693    68.967175        55416860     213.481918  \n",
       "2     8.497587     7.996254     7.167889        55416860      31.585158  \n",
       "3  1680.000000  2100.000000  2650.000000        55416860    7250.000000  \n",
       "4     2.087373     2.241070     2.786574        48741010       9.706750  "
      ]
     },
     "execution_count": 4,
     "metadata": {},
     "output_type": "execute_result"
    }
   ],
   "source": [
    "Total_countries_GDP[\"total_migrants\"]= Total_countries_GDP.iloc[:,3:7].sum(axis=1)\n",
    "Total_countries_GDP[\"total_economy\"] = Total_countries_GDP.iloc[:,8:12].sum(axis=1)\n",
    "Total_countries_GDP.head()"
   ]
  },
  {
   "cell_type": "code",
   "execution_count": 5,
   "metadata": {},
   "outputs": [
    {
     "data": {
      "text/html": [
       "<div>\n",
       "<style scoped>\n",
       "    .dataframe tbody tr th:only-of-type {\n",
       "        vertical-align: middle;\n",
       "    }\n",
       "\n",
       "    .dataframe tbody tr th {\n",
       "        vertical-align: top;\n",
       "    }\n",
       "\n",
       "    .dataframe thead th {\n",
       "        text-align: right;\n",
       "    }\n",
       "</style>\n",
       "<table border=\"1\" class=\"dataframe\">\n",
       "  <thead>\n",
       "    <tr style=\"text-align: right;\">\n",
       "      <th></th>\n",
       "      <th>total_economy</th>\n",
       "    </tr>\n",
       "    <tr>\n",
       "      <th>Income Range</th>\n",
       "      <th></th>\n",
       "    </tr>\n",
       "  </thead>\n",
       "  <tbody>\n",
       "    <tr>\n",
       "      <th>High-income</th>\n",
       "      <td>155.026201</td>\n",
       "    </tr>\n",
       "    <tr>\n",
       "      <th>Lower-middle-income</th>\n",
       "      <td>559.709740</td>\n",
       "    </tr>\n",
       "    <tr>\n",
       "      <th>Upper-middle-income</th>\n",
       "      <td>232.995131</td>\n",
       "    </tr>\n",
       "  </tbody>\n",
       "</table>\n",
       "</div>"
      ],
      "text/plain": [
       "                     total_economy\n",
       "Income Range                      \n",
       "High-income             155.026201\n",
       "Lower-middle-income     559.709740\n",
       "Upper-middle-income     232.995131"
      ]
     },
     "execution_count": 5,
     "metadata": {},
     "output_type": "execute_result"
    }
   ],
   "source": [
    "Total_2 = Total_countries_GDP.loc[Total_countries_GDP[\"Indicator\"] == \"Personal remittances, received (current US$)\"].\\\n",
    "                                   groupby(\"Income Range\")[\"total_economy\"].sum()\n",
    "Development = pd.DataFrame(Total_2)\n",
    "Development"
   ]
  },
  {
   "cell_type": "code",
   "execution_count": 6,
   "metadata": {},
   "outputs": [
    {
     "data": {
      "text/html": [
       "<div>\n",
       "<style scoped>\n",
       "    .dataframe tbody tr th:only-of-type {\n",
       "        vertical-align: middle;\n",
       "    }\n",
       "\n",
       "    .dataframe tbody tr th {\n",
       "        vertical-align: top;\n",
       "    }\n",
       "\n",
       "    .dataframe thead th {\n",
       "        text-align: right;\n",
       "    }\n",
       "</style>\n",
       "<table border=\"1\" class=\"dataframe\">\n",
       "  <thead>\n",
       "    <tr style=\"text-align: right;\">\n",
       "      <th></th>\n",
       "      <th>total_economy</th>\n",
       "      <th>Avg</th>\n",
       "    </tr>\n",
       "    <tr>\n",
       "      <th>Income Range</th>\n",
       "      <th></th>\n",
       "      <th></th>\n",
       "    </tr>\n",
       "  </thead>\n",
       "  <tbody>\n",
       "    <tr>\n",
       "      <th>High-income</th>\n",
       "      <td>155.026201</td>\n",
       "      <td>315.910357</td>\n",
       "    </tr>\n",
       "    <tr>\n",
       "      <th>Lower-middle-income</th>\n",
       "      <td>559.709740</td>\n",
       "      <td>315.910357</td>\n",
       "    </tr>\n",
       "    <tr>\n",
       "      <th>Upper-middle-income</th>\n",
       "      <td>232.995131</td>\n",
       "      <td>315.910357</td>\n",
       "    </tr>\n",
       "  </tbody>\n",
       "</table>\n",
       "</div>"
      ],
      "text/plain": [
       "                     total_economy         Avg\n",
       "Income Range                                  \n",
       "High-income             155.026201  315.910357\n",
       "Lower-middle-income     559.709740  315.910357\n",
       "Upper-middle-income     232.995131  315.910357"
      ]
     },
     "execution_count": 6,
     "metadata": {},
     "output_type": "execute_result"
    }
   ],
   "source": [
    "Development[\"Avg\"] = Development[\"total_economy\"].mean()\n",
    "Development"
   ]
  },
  {
   "cell_type": "code",
   "execution_count": 7,
   "metadata": {},
   "outputs": [],
   "source": [
    "# With four rows, the degree of freedom is 4-1 = 3\n",
    "# With a p-value of 0.05, the confidence level is 1.00-0.05 = 0.95\n",
    "critical_value = stats.chi2.ppf(q = 0.95, df = 3)"
   ]
  },
  {
   "cell_type": "code",
   "execution_count": 8,
   "metadata": {
    "scrolled": true
   },
   "outputs": [
    {
     "data": {
      "text/plain": [
       "7.814727903251179"
      ]
     },
     "execution_count": 8,
     "metadata": {},
     "output_type": "execute_result"
    }
   ],
   "source": [
    "critical_value"
   ]
  },
  {
   "cell_type": "code",
   "execution_count": 9,
   "metadata": {},
   "outputs": [
    {
     "data": {
      "text/plain": [
       "Power_divergenceResult(statistic=291.8447694773442, pvalue=4.2336360619936334e-64)"
      ]
     },
     "execution_count": 9,
     "metadata": {},
     "output_type": "execute_result"
    }
   ],
   "source": [
    "stats.chisquare(Development['total_economy'], Development['Avg'])"
   ]
  }
 ],
 "metadata": {
  "kernelspec": {
   "display_name": "Python 3",
   "language": "python",
   "name": "python3"
  },
  "language_info": {
   "codemirror_mode": {
    "name": "ipython",
    "version": 3
   },
   "file_extension": ".py",
   "mimetype": "text/x-python",
   "name": "python",
   "nbconvert_exporter": "python",
   "pygments_lexer": "ipython3",
   "version": "3.7.3"
  }
 },
 "nbformat": 4,
 "nbformat_minor": 2
}
