{
 "cells": [
  {
   "cell_type": "code",
   "execution_count": 1,
   "metadata": {},
   "outputs": [],
   "source": [
    "# Dependencies and Setup\n",
    "import pandas as pd\n",
    "import numpy as np"
   ]
  },
  {
   "cell_type": "code",
   "execution_count": 2,
   "metadata": {},
   "outputs": [],
   "source": [
    "# Read file with Net Migration numbers with origin and destination\n",
    "org_dest_csv = \"Resources/UN_MigrantStockByOriginAndDestination_2017.csv\"\n",
    "# read a catalog of countries with their respective destinations\n",
    "country_cat_csv = \"Resources/Region_country_catalog.csv\"\n",
    "\n",
    "# Read data into Pandas data frames\n",
    "org_dest_df = pd.read_csv(org_dest_csv)\n",
    "country_cat_df = pd.read_csv(country_cat_csv)"
   ]
  },
  {
   "cell_type": "code",
   "execution_count": 3,
   "metadata": {},
   "outputs": [],
   "source": [
    "# Columns with NO data come with \"..\", need to replace those with 0 \n",
    "org_dest_df = org_dest_df.replace('..',0)\n",
    "\n",
    "# join the numbers data to the catalog to get rid of all rows that DO NOT contain country information\n",
    "# and to get region for destination\n",
    "new_country_data = pd.merge(country_cat_df,org_dest_df, on=\"Country\")"
   ]
  },
  {
   "cell_type": "code",
   "execution_count": 4,
   "metadata": {},
   "outputs": [],
   "source": [
    "# Use melt function to convert countries' columns into rows keeping values for \"Country\",\"Region\" and \"Year\"\n",
    "\n",
    "# Store the column names we want to melt in a list to be used in the melt operation\n",
    "lst_ctry = new_country_data.columns[3:]\n",
    "\n",
    "# melt columns into rows\n",
    "origin_data_df = pd.melt(new_country_data,id_vars=[\"Country\",\"Region\",\"Year\"], value_vars=lst_ctry,\\\n",
    "                    var_name='Origin', value_name='Net Immigrants')\n",
    "# Clean numbers of commas so they can be converted\n",
    "origin_data_df.replace({'Net Immigrants': ','}, {'Net Immigrants': ''}, regex=True, inplace=True)\n",
    "# Convert numbers to integers so they can be ussed in mathematical operations\n",
    "origin_data_df[['Year','Net Immigrants']] = origin_data_df[['Year','Net Immigrants']].applymap(np.int64)\n",
    "# Rename columns to make more sense and help with next merge\n",
    "origin_data_df.columns = [\"Destination\",\"DRegion\",\"Year\",\"Country\",\"Net Immigrants\"]\n",
    "\n",
    "# merge with country catalog to get region for country of origin\n",
    "origin_data_df = pd.merge(country_cat_df,origin_data_df, on=\"Country\")\n",
    "# rename the columns once we have added the region for the origination country\n",
    "origin_data_df.columns = [\"Origin\",\"ORegion\",\"Destination\",\"DRegion\",\"Year\",\"Net Immigrants\"]\n",
    "\n",
    "# save the top 20 countries of origination for filtering later on (considering all 12 years of data)\n",
    "top20_ctrys_lst = origin_data_df.groupby(\"Origin\").agg({'Net Immigrants': 'sum'}).\\\n",
    "    sort_values('Net Immigrants', ascending=False).head(20).index\n",
    "\n",
    "#origin_data_df.nlargest(20, \"Net Immigrants\")\n",
    "\n",
    "\n",
    "# origin_data_df.groupby(\"Country\").agg({'Net Immigrants': 'sum'}).\\\n",
    "#     sort_values('Net Immigrants', ascending=False).head(20)\n",
    "\n",
    "#origin_data_df.head()"
   ]
  },
  {
   "cell_type": "code",
   "execution_count": 5,
   "metadata": {},
   "outputs": [],
   "source": [
    "# total number of origination migrants per region \n",
    "#origin_data_df.groupby(\"ORegion\").agg({'Net Immigrants': 'sum'}).sort_values('Net Immigrants', ascending=False)\n",
    "\n",
    "# Filter#origin_data_df.head()"
   ]
  },
  {
   "cell_type": "code",
   "execution_count": 6,
   "metadata": {},
   "outputs": [],
   "source": [
    "# # Top 10 countries receiving people\n",
    "#origin_data_df.groupby(\"Destination\").agg({'Net Immigrants': 'sum'}).\\\n",
    "#    sort_values('Net Immigrants', ascending=False).head(10)\n",
    "# # Show the destination region sorted by net number of migrants \n",
    "#origin_data_df.groupby(\"DRegion\").agg({'Net Immigrants': 'sum'}).sort_values('Net Immigrants', ascending=False)"
   ]
  },
  {
   "cell_type": "code",
   "execution_count": 13,
   "metadata": {},
   "outputs": [],
   "source": [
    "# Filter the dataframe to continue with the top 20 ONLY\n",
    "top_20_ctrys_df = origin_data_df.loc[origin_data_df.Origin.isin(top20_ctrys_lst)]\n",
    "\n",
    "# Determine from the top 20, which are the 3 regions they are mainly going\n",
    "whereto_20_ctrys_df = top_20_ctrys_df.groupby([\"DRegion\",\"Destination\",\"ORegion\",\"Origin\"]).\\\n",
    "    agg({'Net Immigrants': 'sum'}).sort_values(['Origin','Net Immigrants'], ascending=[True,False]).reset_index().\\\n",
    "    groupby([\"Origin\",\"DRegion\"]).agg({'Net Immigrants': 'sum'}).\\\n",
    "    sort_values(['Origin','Net Immigrants'], ascending=[True,False]).reset_index().groupby([\"Origin\"]).head(3)\n",
    "\n",
    "\n",
    "# whereto_20_ctrys_df.head()"
   ]
  },
  {
   "cell_type": "code",
   "execution_count": 14,
   "metadata": {},
   "outputs": [],
   "source": [
    "top_20_ctrys_df = top_20_ctrys_df.groupby([\"Origin\",\"Year\"]).agg({'Net Immigrants': 'sum'}). \\\n",
    "    sort_values('Net Immigrants', ascending=False).unstack()\n",
    "\n",
    "top_20_ctrys_df.columns = top_20_ctrys_df.columns.droplevel()\n",
    "\n",
    "top_20_ctrys_df = top_20_ctrys_df.reset_index()"
   ]
  },
  {
   "cell_type": "code",
   "execution_count": null,
   "metadata": {},
   "outputs": [],
   "source": []
  },
  {
   "cell_type": "code",
   "execution_count": null,
   "metadata": {},
   "outputs": [],
   "source": []
  },
  {
   "cell_type": "code",
   "execution_count": 17,
   "metadata": {},
   "outputs": [
    {
     "ename": "AttributeError",
     "evalue": "'Index' object has no attribute 'to_csv'",
     "output_type": "error",
     "traceback": [
      "\u001b[1;31m---------------------------------------------------------------------------\u001b[0m",
      "\u001b[1;31mAttributeError\u001b[0m                            Traceback (most recent call last)",
      "\u001b[1;32m<ipython-input-17-1ccba442f521>\u001b[0m in \u001b[0;36m<module>\u001b[1;34m\u001b[0m\n\u001b[0;32m      1\u001b[0m \u001b[1;31m# Write the new dataframe to a new CSV file\u001b[0m\u001b[1;33m\u001b[0m\u001b[1;33m\u001b[0m\u001b[1;33m\u001b[0m\u001b[0m\n\u001b[0;32m      2\u001b[0m \u001b[0mtop_20_ctrys_df\u001b[0m\u001b[1;33m.\u001b[0m\u001b[0mto_csv\u001b[0m\u001b[1;33m(\u001b[0m\u001b[1;34m\"Output/Clean_Top20_migrant.csv\"\u001b[0m\u001b[1;33m,\u001b[0m \u001b[0mindex\u001b[0m\u001b[1;33m=\u001b[0m\u001b[1;32mFalse\u001b[0m\u001b[1;33m,\u001b[0m \u001b[0mheader\u001b[0m\u001b[1;33m=\u001b[0m\u001b[1;32mTrue\u001b[0m\u001b[1;33m)\u001b[0m\u001b[1;33m\u001b[0m\u001b[1;33m\u001b[0m\u001b[0m\n\u001b[1;32m----> 3\u001b[1;33m \u001b[0mtop20_ctrys_lst\u001b[0m\u001b[1;33m.\u001b[0m\u001b[0mto_csv\u001b[0m\u001b[1;33m(\u001b[0m\u001b[1;34m\"Output/Top20_list.csv\"\u001b[0m\u001b[1;33m,\u001b[0m \u001b[0mindex\u001b[0m\u001b[1;33m=\u001b[0m\u001b[1;32mFalse\u001b[0m\u001b[1;33m)\u001b[0m\u001b[1;33m\u001b[0m\u001b[1;33m\u001b[0m\u001b[0m\n\u001b[0m",
      "\u001b[1;31mAttributeError\u001b[0m: 'Index' object has no attribute 'to_csv'"
     ]
    }
   ],
   "source": [
    "# Write the new dataframe to a new CSV file\n",
    "top_20_ctrys_df.to_csv(\"Output/Clean_Top20_migrant.csv\", index=False, header=True)"
   ]
  },
  {
   "cell_type": "code",
   "execution_count": 20,
   "metadata": {},
   "outputs": [
    {
     "data": {
      "text/plain": [
       "pandas.core.indexes.base.Index"
      ]
     },
     "execution_count": 20,
     "metadata": {},
     "output_type": "execute_result"
    }
   ],
   "source": []
  }
 ],
 "metadata": {
  "kernelspec": {
   "display_name": "Python 3",
   "language": "python",
   "name": "python3"
  },
  "language_info": {
   "codemirror_mode": {
    "name": "ipython",
    "version": 3
   },
   "file_extension": ".py",
   "mimetype": "text/x-python",
   "name": "python",
   "nbconvert_exporter": "python",
   "pygments_lexer": "ipython3",
   "version": "3.7.3"
  }
 },
 "nbformat": 4,
 "nbformat_minor": 2
}
