{
 "cells": [
  {
   "cell_type": "code",
   "execution_count": 2,
   "metadata": {},
   "outputs": [],
   "source": [
    "# Dependencies and Setup\n",
    "import pandas as pd\n",
    "import numpy as np"
   ]
  },
  {
   "cell_type": "code",
   "execution_count": 3,
   "metadata": {},
   "outputs": [],
   "source": [
    "# Read file with Male Migration numbers with origin and destination\n",
    "gdp_data_csv = \"Resources/CountryGDP.csv\"\n",
    "# read a catalog of countries with their respective destinations\n",
    "country_cat_csv = \"Resources/Region_country_catalog.csv\"\n",
    "\n",
    "# Read data into Pandas data frames\n",
    "gdp_data_df = pd.read_csv(gdp_data_csv)\n",
    "country_cat_df = pd.read_csv(country_cat_csv)"
   ]
  },
  {
   "cell_type": "code",
   "execution_count": 7,
   "metadata": {},
   "outputs": [
    {
     "data": {
      "text/html": [
       "<div>\n",
       "<style scoped>\n",
       "    .dataframe tbody tr th:only-of-type {\n",
       "        vertical-align: middle;\n",
       "    }\n",
       "\n",
       "    .dataframe tbody tr th {\n",
       "        vertical-align: top;\n",
       "    }\n",
       "\n",
       "    .dataframe thead th {\n",
       "        text-align: right;\n",
       "    }\n",
       "</style>\n",
       "<table border=\"1\" class=\"dataframe\">\n",
       "  <thead>\n",
       "    <tr style=\"text-align: right;\">\n",
       "      <th></th>\n",
       "      <th>Country</th>\n",
       "      <th>Region</th>\n",
       "      <th>Indicator Name</th>\n",
       "      <th>2005</th>\n",
       "      <th>2010</th>\n",
       "      <th>2015</th>\n",
       "      <th>2017</th>\n",
       "    </tr>\n",
       "  </thead>\n",
       "  <tbody>\n",
       "    <tr>\n",
       "      <th>232</th>\n",
       "      <td>India</td>\n",
       "      <td>ASIA</td>\n",
       "      <td>Personal remittances, received (% of GDP)</td>\n",
       "      <td>2.696926e+00</td>\n",
       "      <td>3.191661e+00</td>\n",
       "      <td>3.275817e+00</td>\n",
       "      <td>2.600032e+00</td>\n",
       "    </tr>\n",
       "    <tr>\n",
       "      <th>233</th>\n",
       "      <td>India</td>\n",
       "      <td>ASIA</td>\n",
       "      <td>Personal remittances, received (current US$)</td>\n",
       "      <td>2.212509e+10</td>\n",
       "      <td>5.347996e+10</td>\n",
       "      <td>6.890969e+10</td>\n",
       "      <td>6.896718e+10</td>\n",
       "    </tr>\n",
       "    <tr>\n",
       "      <th>234</th>\n",
       "      <td>India</td>\n",
       "      <td>ASIA</td>\n",
       "      <td>GDP growth (annual %)</td>\n",
       "      <td>7.923429e+00</td>\n",
       "      <td>8.497587e+00</td>\n",
       "      <td>7.996254e+00</td>\n",
       "      <td>7.167889e+00</td>\n",
       "    </tr>\n",
       "    <tr>\n",
       "      <th>235</th>\n",
       "      <td>India</td>\n",
       "      <td>ASIA</td>\n",
       "      <td>GDP (current US$)</td>\n",
       "      <td>8.200000e+11</td>\n",
       "      <td>1.680000e+12</td>\n",
       "      <td>2.100000e+12</td>\n",
       "      <td>2.650000e+12</td>\n",
       "    </tr>\n",
       "  </tbody>\n",
       "</table>\n",
       "</div>"
      ],
      "text/plain": [
       "    Country Region                                Indicator Name  \\\n",
       "232   India   ASIA     Personal remittances, received (% of GDP)   \n",
       "233   India   ASIA  Personal remittances, received (current US$)   \n",
       "234   India   ASIA                         GDP growth (annual %)   \n",
       "235   India   ASIA                             GDP (current US$)   \n",
       "\n",
       "             2005          2010          2015          2017  \n",
       "232  2.696926e+00  3.191661e+00  3.275817e+00  2.600032e+00  \n",
       "233  2.212509e+10  5.347996e+10  6.890969e+10  6.896718e+10  \n",
       "234  7.923429e+00  8.497587e+00  7.996254e+00  7.167889e+00  \n",
       "235  8.200000e+11  1.680000e+12  2.100000e+12  2.650000e+12  "
      ]
     },
     "execution_count": 7,
     "metadata": {},
     "output_type": "execute_result"
    }
   ],
   "source": [
    "# join the GDP data to the catalog to get rid of all rows that DO NOT contain country information\n",
    "gdp_total_df = pd.merge(country_cat_df,gdp_data_df, on=\"Country\")\n",
    "gdp_total_df.loc[gdp_total_df[\"Country\"] == \"India\"]\n"
   ]
  },
  {
   "cell_type": "code",
   "execution_count": null,
   "metadata": {},
   "outputs": [],
   "source": []
  },
  {
   "cell_type": "code",
   "execution_count": null,
   "metadata": {},
   "outputs": [],
   "source": []
  },
  {
   "cell_type": "code",
   "execution_count": null,
   "metadata": {},
   "outputs": [],
   "source": []
  }
 ],
 "metadata": {
  "kernelspec": {
   "display_name": "Python 3",
   "language": "python",
   "name": "python3"
  },
  "language_info": {
   "codemirror_mode": {
    "name": "ipython",
    "version": 3
   },
   "file_extension": ".py",
   "mimetype": "text/x-python",
   "name": "python",
   "nbconvert_exporter": "python",
   "pygments_lexer": "ipython3",
   "version": "3.7.3"
  }
 },
 "nbformat": 4,
 "nbformat_minor": 2
}
