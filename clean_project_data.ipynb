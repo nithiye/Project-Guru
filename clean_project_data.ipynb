{
 "cells": [
  {
   "cell_type": "code",
   "execution_count": 1,
   "metadata": {},
   "outputs": [],
   "source": [
    "# Dependencies and Setup\n",
    "import pandas as pd\n",
    "import numpy as np"
   ]
  },
  {
   "cell_type": "code",
   "execution_count": 2,
   "metadata": {},
   "outputs": [],
   "source": [
    "# Read file with Net Migration numbers with origin and destination\n",
    "org_dest_csv = \"Resources/UN_MigrantStockByOriginAndDestination_2017.csv\"\n",
    "# read a catalog of countries with their respective destinations\n",
    "country_cat_csv = \"Resources/Region_country_catalog.csv\"\n",
    "\n",
    "# Read data into Pandas data frames\n",
    "org_dest_df = pd.read_csv(org_dest_csv)\n",
    "country_cat_df = pd.read_csv(country_cat_csv)"
   ]
  },
  {
   "cell_type": "code",
   "execution_count": 3,
   "metadata": {},
   "outputs": [],
   "source": [
    "# Columns with NO data come with \"..\", need to replace those with 0 \n",
    "org_dest_df = org_dest_df.replace('..',0)\n",
    "\n",
    "# Join migration data to the countries' catalog to get rid of all rows that DO NOT contain country information\n",
    "# and to get region for destination countries\n",
    "new_country_data = pd.merge(country_cat_df[[\"Country\",\"Region\"]],org_dest_df, on=\"Country\")"
   ]
  },
  {
   "cell_type": "code",
   "execution_count": 4,
   "metadata": {},
   "outputs": [],
   "source": [
    "# Use melt function to convert countries' columns into rows keeping values for \"Country\",\"Region\" and \"Year\"\n",
    "\n",
    "# Store the column names we want to melt in a list to be used in the melt operation\n",
    "lst_ctry = new_country_data.columns[3:]\n",
    "\n",
    "# melt columns into rows\n",
    "origin_data_df = pd.melt(new_country_data,id_vars=[\"Country\",\"Region\",\"Year\"], \\\n",
    "                    value_vars=lst_ctry, var_name='Origin', value_name='Tot Immigrants')\n",
    "\n",
    "# Clean numbers of commas so they can be converted\n",
    "origin_data_df.replace({'Tot Immigrants': ','}, {'Tot Immigrants': ''}, regex=True, inplace=True)\n",
    "# Convert numbers to integers so they can be aggregated\n",
    "origin_data_df[['Year','Tot Immigrants']] = origin_data_df[['Year','Tot Immigrants']].applymap(np.int32)\n",
    "\n",
    "# Rename columns to make more sense and help with next merge\n",
    "origin_data_df.columns = [\"Destination\",\"DRegion\",\"Year\",\"Country\",\"Tot Immigrants\"]\n",
    "\n",
    "# merge with countries' catalog to get \"Region\", \"Dev Level\" and \"Income Range\" for countries of origin\n",
    "origin_data_df = pd.merge(country_cat_df,origin_data_df, on=\"Country\")\n",
    "# rename the columns once we have added the region for the origination country\n",
    "origin_data_df.columns = [\"Origin\",\"ORegion\",\"Dev Level\",\"Income Range\",\"Destination\",\"DRegion\",\"Year\",\"Tot Immigrants\"]"
   ]
  },
  {
   "cell_type": "code",
   "execution_count": 5,
   "metadata": {},
   "outputs": [],
   "source": [
    "# Origination countries ordered from highest to lowest numbers of migrants\n",
    "origination_df = origin_data_df.groupby([\"Origin\"]).agg({'Tot Immigrants': 'sum'}).\\\n",
    "     sort_values('Tot Immigrants', ascending=False).reset_index()\n",
    "\n",
    "# Dsetination countries ordered from highest to lowest numbers of migrants received\n",
    "destination_df = origin_data_df.groupby(\"Destination\").agg({'Tot Immigrants': 'sum'}).\\\n",
    "   sort_values('Tot Immigrants', ascending=False).reset_index()"
   ]
  },
  {
   "cell_type": "code",
   "execution_count": 6,
   "metadata": {},
   "outputs": [],
   "source": [
    "# Pivot the years to be columns to help with plotting\n",
    "origin_data_df = origin_data_df.groupby([\"Origin\",\"Dev Level\",\"Income Range\",\"Year\"]).agg({'Tot Immigrants': 'sum'}). \\\n",
    "    sort_values('Tot Immigrants', ascending=False).unstack()\n",
    "\n",
    "# Unstacking cause a multilevel, get rid of it\n",
    "origin_data_df.columns = origin_data_df.columns.droplevel()\n",
    "\n",
    "# Reset the index so country of origin become another column (to save the data)\n",
    "origin_data_df = origin_data_df.reset_index()"
   ]
  },
  {
   "cell_type": "code",
   "execution_count": 7,
   "metadata": {},
   "outputs": [],
   "source": [
    "# Clean GDP data\n",
    "# Read file with countries' GDP numbers\n",
    "gdp_data_csv = \"Resources/CountryGDP.csv\"\n",
    "\n",
    "# Read data into Pandas data frames\n",
    "gdp_data_df = pd.read_csv(gdp_data_csv)\n",
    "\n",
    "# join the GDP data to the catalog to get rid of all rows that DO NOT contain country information\n",
    "gdp_total_df = pd.merge(country_cat_df[[\"Country\"]],gdp_data_df, on=\"Country\")"
   ]
  },
  {
   "cell_type": "code",
   "execution_count": 8,
   "metadata": {},
   "outputs": [],
   "source": [
    "# Determine countries with missing indicators\n",
    "ctrs_to_drop = gdp_total_df[(gdp_total_df['2005'].isna()) | gdp_total_df['2010'].isna() | \\\n",
    "             (gdp_total_df['2015'].isna()) | gdp_total_df['2017'].isna() ][\"Country\"].unique()\n",
    "\n",
    "# Delete countries with any missing indicator\n",
    "gdp_total_df = gdp_total_df.loc[~gdp_total_df[\"Country\"].isin(ctrs_to_drop)]\n",
    "\n",
    "# Indicators with amounts will be expressed in billions\n",
    "gdp_total_df.loc[~gdp_total_df[\"Indicator\"].str.contains('%'), [\"2005\",\"2010\",\"2015\",\"2017\"]] /= 1000000000\n",
    "\n",
    "# Merge both sets\n",
    "all_info_df = pd.merge(origin_data_df,gdp_total_df, left_on=\"Origin\", right_on=\"Country\").drop(\"Country\",axis=1)"
   ]
  },
  {
   "cell_type": "code",
   "execution_count": 9,
   "metadata": {},
   "outputs": [],
   "source": [
    "# Determine top 30 countries of origination. Since some did NOT have indicator data, we might lose some\n",
    "top30_ctrys_lst = origination_df[\"Origin\"].head(30)\n",
    "\n",
    "# Filter top 30 migrant countries GDP dataframe \n",
    "# Possible indicators: Personal remittances, received (% of GDP), Personal remittances, received (current US$),\n",
    "# GDP growth (annual %), GDP (current US$)\n",
    "all_info_df = all_info_df.loc[(all_info_df.Origin.isin(top30_ctrys_lst))]"
   ]
  },
  {
   "cell_type": "code",
   "execution_count": 10,
   "metadata": {},
   "outputs": [],
   "source": [
    "# Redetermine top 20 countries of origination (some had to be dropped due to lack of indicators)\n",
    "origination_df = origination_df.loc[(origination_df.Origin.isin(all_info_df.Origin.head(80).unique()))]"
   ]
  },
  {
   "cell_type": "code",
   "execution_count": 12,
   "metadata": {},
   "outputs": [],
   "source": [
    "# Write data of Top 20countries of origination to a file\n",
    "origination_df.to_csv(\"Output/Top20_Origin.csv\", index=False, header=True)\n",
    "\n",
    "# Write data of Top 20countries of destination to a file\n",
    "destination_df.head(20).to_csv(\"Output/Top20_Dest.csv\", index=False, header=True)\n",
    "\n",
    "# Write migrant and economic data of top20 countries to a file\n",
    "all_info_df.head(80).to_csv(\"Output/Data_for_plotting.csv\", index=False, header=True)"
   ]
  },
  {
   "cell_type": "code",
   "execution_count": null,
   "metadata": {},
   "outputs": [],
   "source": []
  }
 ],
 "metadata": {
  "kernelspec": {
   "display_name": "Python 3",
   "language": "python",
   "name": "python3"
  },
  "language_info": {
   "codemirror_mode": {
    "name": "ipython",
    "version": 3
   },
   "file_extension": ".py",
   "mimetype": "text/x-python",
   "name": "python",
   "nbconvert_exporter": "python",
   "pygments_lexer": "ipython3",
   "version": "3.7.3"
  }
 },
 "nbformat": 4,
 "nbformat_minor": 2
}
